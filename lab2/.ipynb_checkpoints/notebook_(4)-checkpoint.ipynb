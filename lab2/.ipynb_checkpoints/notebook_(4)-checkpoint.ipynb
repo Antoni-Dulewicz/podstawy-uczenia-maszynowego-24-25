{
 "cells": [
  {
   "cell_type": "markdown",
   "metadata": {
    "id": "sHAiqQWd6qiC"
   },
   "source": [
    "# Metody oparte o sąsiedztwo"
   ]
  },
  {
   "cell_type": "markdown",
   "metadata": {
    "id": "Ve6NiJUn6qiE"
   },
   "source": [
    "## Wstęp"
   ]
  },
  {
   "cell_type": "markdown",
   "metadata": {
    "id": "59EleizH6qiF"
   },
   "source": [
    "Laboratorium składa się z 2 części:\n",
    "1. kNN w uczeniu nadzorowanym\n",
    "2. Wyszukiwanie\n",
    "\n",
    "W pierwszej części użyjemy standardowych bibliotek oraz dodatkowo `pynndescent`, implementującego algorytm NN-Descent do approximate nearest neighbors (ANN).\n",
    "\n",
    "W drugiej części natomiast do wektoryzacji obiektów użyjemy stosu do uczenia głębokiego opartego o PyTorcha i Sentence Transformers - biblioteki implementującej transformery do uczenia nienadzorowanego i wyszukiwania."
   ]
  },
  {
   "cell_type": "code",
   "execution_count": 1,
   "metadata": {
    "id": "4t_R6B286qiF"
   },
   "outputs": [],
   "source": [
    "import matplotlib.pyplot as plt\n",
    "import numpy as np\n",
    "import pandas as pd"
   ]
  },
  {
   "cell_type": "markdown",
   "metadata": {
    "id": "Nh7d5Ien6qiG"
   },
   "source": [
    "## Zbiór danych - klasyfikacja danych numerycznych"
   ]
  },
  {
   "cell_type": "markdown",
   "metadata": {
    "id": "umLq6QEL6qiH"
   },
   "source": [
    "Wykorzystamy zbiór danych [Codon usage](https://archive.ics.uci.edu/ml/datasets/Codon+usage) z dziedziny bioinformatyki. Został on zaprezentowany w artykule:\n",
    "\n",
    "Hallee, Logan, and Bohdan B. Khomtchouk. *\"Machine learning classifiers predict key genomic and evolutionary traits across the kingdoms of life.\"* Scientific Reports 13.1 (2023): 2088. [link](https://www.nature.com/articles/s41598-023-28965-7)\n",
    "\n",
    "Autorzy wykonywali na nim wiele analiz, ale nas interesuje podstawowa - przewidywanie, z jakiego królestwa (kingdom) pochodzi komórka, na podstawie rozkładu kodonów w jej sekwencjonowanym RNA. Analiza DNA oraz RNA jest podstawowym zadaniem bioinformatyki. Kodony (codons) to trójki nukleotydów, np. UGC, i większość zapisuje pewien aminokwas (z wyjątkiem trzech kodonów stopu), który jest wykorzystywany w syntezie białek.\n",
    "\n",
    "Problem jest taki, że w praktyce trzeba sekwencjonować DNA/RNA z wielu komórek, więc trzeba je namnożyć w laboratorium. Niestety nie da się uzyskać idealnej czystości, i zawsze jest szansa, że próbka zostanie zanieczyszczona, np. bakteriami. Wtedy oprócz interesujących nas komórek (np. zwierzęcych) otrzymamy inne, których trzeba się pozbyć przed dalszą analizą. Tutaj właśnie wchodzi ML - dokonamy klasyfikacji, z jakiego królestwa (a właściwie domeny) pochodzi kod RNA, żeby pomóc w takich sytuacjach.\n",
    "\n",
    "Dla uproszczenia, autorzy, zamiast klasyfikować królestwo, klasyfikują [domenę](https://pl.wikipedia.org/wiki/Domena_(biologia)) organizmu. Są to jednostki o poziom wyżej w systematyce taksonomicznej. Do tego dokładamy wirusy i bakteriofagi. Mamy zatem klasy:\n",
    "1. Archaea ([archeony](https://pl.wikipedia.org/wiki/Archeony)) - drobne jednokomórkowce, źródło ważnych [enzymów stosowanych w biologii molekularnej](https://en.wikipedia.org/wiki/Archaea#Significance_in_technology_and_industry)\n",
    "2. Bacteria ([bakterie](https://pl.wikipedia.org/wiki/Bakterie))\n",
    "3. Eukariota ([eukarionty](https://pl.wikipedia.org/wiki/Eukarionty)) - między innymi ludzie\n",
    "4. Viruses ([wirusy](https://pl.wikipedia.org/wiki/Wirusy)) - nie są organizmami żywymi, więc nie są częścią typowej taksonomii, ale są ważne w badaniach mikrobiologicznych\n",
    "5. Bacteriophages ([bakteriofagi](https://pl.wikipedia.org/wiki/Bakteriofag)) - rodzaj wirusów atakujących tylko bakterie, używane m.in. [w badaniach nad mikrobiomem jelitowym](https://kids.frontiersin.org/articles/10.3389/frym.2019.00146)\n",
    "\n",
    "Szczegółowy opis zbioru znajduje się [na stronie UCI](https://archive.ics.uci.edu/ml/datasets/Codon+usage). W skrócie:\n",
    "1. `Kingdom` - królestwo, z którego pochodzi komórka. Podział jest tutaj dość szczegółowy, ale organizmy te można pogrupować w praktyce na bakterie (bacteria), wirusy (viruses) i eukarionty (eukariota).\n",
    "2. `DNAtype` - używana w innych analizach w artykule.\n",
    "3. `SpeciesID` - numer gatunku.\n",
    "4. `Ncodons` - liczba kodonów zmierzona dla danej komórki.\n",
    "5. `SpeciesName` - nazwa gatunku.\n",
    "\n",
    "Dalsze kolumny to znormalizowany ułamek kodonów poszczególnych typów w RNA danej komórki. W związku z tym, że dane są już znormalizowane, nie ma potrzeby ich skalowania."
   ]
  },
  {
   "cell_type": "code",
   "execution_count": 2,
   "metadata": {
    "colab": {
     "base_uri": "https://localhost:8080/",
     "height": 740
    },
    "id": "EfXEoq-K6qiI",
    "outputId": "b4fa7b2a-c45b-4d67-cb24-841565267ee0"
   },
   "outputs": [
    {
     "name": "stderr",
     "output_type": "stream",
     "text": [
      "C:\\Users\\anton\\AppData\\Local\\Temp\\ipykernel_32308\\2756931748.py:1: DtypeWarning: Columns (5,6) have mixed types. Specify dtype option on import or set low_memory=False.\n",
      "  df = pd.read_csv(\"codon_usage.csv\")\n"
     ]
    },
    {
     "data": {
      "text/html": [
       "<div>\n",
       "<style scoped>\n",
       "    .dataframe tbody tr th:only-of-type {\n",
       "        vertical-align: middle;\n",
       "    }\n",
       "\n",
       "    .dataframe tbody tr th {\n",
       "        vertical-align: top;\n",
       "    }\n",
       "\n",
       "    .dataframe thead th {\n",
       "        text-align: right;\n",
       "    }\n",
       "</style>\n",
       "<table border=\"1\" class=\"dataframe\">\n",
       "  <thead>\n",
       "    <tr style=\"text-align: right;\">\n",
       "      <th></th>\n",
       "      <th>Kingdom</th>\n",
       "      <th>DNAtype</th>\n",
       "      <th>SpeciesID</th>\n",
       "      <th>Ncodons</th>\n",
       "      <th>SpeciesName</th>\n",
       "      <th>UUU</th>\n",
       "      <th>UUC</th>\n",
       "      <th>UUA</th>\n",
       "      <th>UUG</th>\n",
       "      <th>CUU</th>\n",
       "      <th>...</th>\n",
       "      <th>CGG</th>\n",
       "      <th>AGA</th>\n",
       "      <th>AGG</th>\n",
       "      <th>GAU</th>\n",
       "      <th>GAC</th>\n",
       "      <th>GAA</th>\n",
       "      <th>GAG</th>\n",
       "      <th>UAA</th>\n",
       "      <th>UAG</th>\n",
       "      <th>UGA</th>\n",
       "    </tr>\n",
       "  </thead>\n",
       "  <tbody>\n",
       "    <tr>\n",
       "      <th>0</th>\n",
       "      <td>vrl</td>\n",
       "      <td>0</td>\n",
       "      <td>100217</td>\n",
       "      <td>1995</td>\n",
       "      <td>Epizootic haematopoietic necrosis virus</td>\n",
       "      <td>0.01654</td>\n",
       "      <td>0.01203</td>\n",
       "      <td>0.00050</td>\n",
       "      <td>0.00351</td>\n",
       "      <td>0.01203</td>\n",
       "      <td>...</td>\n",
       "      <td>0.00451</td>\n",
       "      <td>0.01303</td>\n",
       "      <td>0.03559</td>\n",
       "      <td>0.01003</td>\n",
       "      <td>0.04612</td>\n",
       "      <td>0.01203</td>\n",
       "      <td>0.04361</td>\n",
       "      <td>0.00251</td>\n",
       "      <td>0.00050</td>\n",
       "      <td>0.00000</td>\n",
       "    </tr>\n",
       "    <tr>\n",
       "      <th>1</th>\n",
       "      <td>vrl</td>\n",
       "      <td>0</td>\n",
       "      <td>100220</td>\n",
       "      <td>1474</td>\n",
       "      <td>Bohle iridovirus</td>\n",
       "      <td>0.02714</td>\n",
       "      <td>0.01357</td>\n",
       "      <td>0.00068</td>\n",
       "      <td>0.00678</td>\n",
       "      <td>0.00407</td>\n",
       "      <td>...</td>\n",
       "      <td>0.00136</td>\n",
       "      <td>0.01696</td>\n",
       "      <td>0.03596</td>\n",
       "      <td>0.01221</td>\n",
       "      <td>0.04545</td>\n",
       "      <td>0.01560</td>\n",
       "      <td>0.04410</td>\n",
       "      <td>0.00271</td>\n",
       "      <td>0.00068</td>\n",
       "      <td>0.00000</td>\n",
       "    </tr>\n",
       "    <tr>\n",
       "      <th>2</th>\n",
       "      <td>vrl</td>\n",
       "      <td>0</td>\n",
       "      <td>100755</td>\n",
       "      <td>4862</td>\n",
       "      <td>Sweet potato leaf curl virus</td>\n",
       "      <td>0.01974</td>\n",
       "      <td>0.0218</td>\n",
       "      <td>0.01357</td>\n",
       "      <td>0.01543</td>\n",
       "      <td>0.00782</td>\n",
       "      <td>...</td>\n",
       "      <td>0.00596</td>\n",
       "      <td>0.01974</td>\n",
       "      <td>0.02489</td>\n",
       "      <td>0.03126</td>\n",
       "      <td>0.02036</td>\n",
       "      <td>0.02242</td>\n",
       "      <td>0.02468</td>\n",
       "      <td>0.00391</td>\n",
       "      <td>0.00000</td>\n",
       "      <td>0.00144</td>\n",
       "    </tr>\n",
       "    <tr>\n",
       "      <th>3</th>\n",
       "      <td>vrl</td>\n",
       "      <td>0</td>\n",
       "      <td>100880</td>\n",
       "      <td>1915</td>\n",
       "      <td>Northern cereal mosaic virus</td>\n",
       "      <td>0.01775</td>\n",
       "      <td>0.02245</td>\n",
       "      <td>0.01619</td>\n",
       "      <td>0.00992</td>\n",
       "      <td>0.01567</td>\n",
       "      <td>...</td>\n",
       "      <td>0.00366</td>\n",
       "      <td>0.01410</td>\n",
       "      <td>0.01671</td>\n",
       "      <td>0.03760</td>\n",
       "      <td>0.01932</td>\n",
       "      <td>0.03029</td>\n",
       "      <td>0.03446</td>\n",
       "      <td>0.00261</td>\n",
       "      <td>0.00157</td>\n",
       "      <td>0.00000</td>\n",
       "    </tr>\n",
       "    <tr>\n",
       "      <th>4</th>\n",
       "      <td>vrl</td>\n",
       "      <td>0</td>\n",
       "      <td>100887</td>\n",
       "      <td>22831</td>\n",
       "      <td>Soil-borne cereal mosaic virus</td>\n",
       "      <td>0.02816</td>\n",
       "      <td>0.01371</td>\n",
       "      <td>0.00767</td>\n",
       "      <td>0.03679</td>\n",
       "      <td>0.01380</td>\n",
       "      <td>...</td>\n",
       "      <td>0.00604</td>\n",
       "      <td>0.01494</td>\n",
       "      <td>0.01734</td>\n",
       "      <td>0.04148</td>\n",
       "      <td>0.02483</td>\n",
       "      <td>0.03359</td>\n",
       "      <td>0.03679</td>\n",
       "      <td>0.00000</td>\n",
       "      <td>0.00044</td>\n",
       "      <td>0.00131</td>\n",
       "    </tr>\n",
       "    <tr>\n",
       "      <th>...</th>\n",
       "      <td>...</td>\n",
       "      <td>...</td>\n",
       "      <td>...</td>\n",
       "      <td>...</td>\n",
       "      <td>...</td>\n",
       "      <td>...</td>\n",
       "      <td>...</td>\n",
       "      <td>...</td>\n",
       "      <td>...</td>\n",
       "      <td>...</td>\n",
       "      <td>...</td>\n",
       "      <td>...</td>\n",
       "      <td>...</td>\n",
       "      <td>...</td>\n",
       "      <td>...</td>\n",
       "      <td>...</td>\n",
       "      <td>...</td>\n",
       "      <td>...</td>\n",
       "      <td>...</td>\n",
       "      <td>...</td>\n",
       "      <td>...</td>\n",
       "    </tr>\n",
       "    <tr>\n",
       "      <th>13023</th>\n",
       "      <td>pri</td>\n",
       "      <td>0</td>\n",
       "      <td>9601</td>\n",
       "      <td>1097</td>\n",
       "      <td>Pongo pygmaeus abelii</td>\n",
       "      <td>0.02552</td>\n",
       "      <td>0.03555</td>\n",
       "      <td>0.00547</td>\n",
       "      <td>0.01367</td>\n",
       "      <td>0.01276</td>\n",
       "      <td>...</td>\n",
       "      <td>0.00820</td>\n",
       "      <td>0.01367</td>\n",
       "      <td>0.01094</td>\n",
       "      <td>0.01367</td>\n",
       "      <td>0.02279</td>\n",
       "      <td>0.02005</td>\n",
       "      <td>0.04102</td>\n",
       "      <td>0.00091</td>\n",
       "      <td>0.00091</td>\n",
       "      <td>0.00638</td>\n",
       "    </tr>\n",
       "    <tr>\n",
       "      <th>13024</th>\n",
       "      <td>pri</td>\n",
       "      <td>1</td>\n",
       "      <td>9601</td>\n",
       "      <td>2067</td>\n",
       "      <td>mitochondrion Pongo pygmaeus abelii</td>\n",
       "      <td>0.01258</td>\n",
       "      <td>0.03193</td>\n",
       "      <td>0.01984</td>\n",
       "      <td>0.00629</td>\n",
       "      <td>0.01451</td>\n",
       "      <td>...</td>\n",
       "      <td>0.00145</td>\n",
       "      <td>0.00000</td>\n",
       "      <td>0.00048</td>\n",
       "      <td>0.00194</td>\n",
       "      <td>0.01306</td>\n",
       "      <td>0.01838</td>\n",
       "      <td>0.00677</td>\n",
       "      <td>0.00242</td>\n",
       "      <td>0.00097</td>\n",
       "      <td>0.01887</td>\n",
       "    </tr>\n",
       "    <tr>\n",
       "      <th>13025</th>\n",
       "      <td>pri</td>\n",
       "      <td>1</td>\n",
       "      <td>9602</td>\n",
       "      <td>1686</td>\n",
       "      <td>mitochondrion Pongo pygmaeus pygmaeus</td>\n",
       "      <td>0.01423</td>\n",
       "      <td>0.03321</td>\n",
       "      <td>0.01661</td>\n",
       "      <td>0.00356</td>\n",
       "      <td>0.01127</td>\n",
       "      <td>...</td>\n",
       "      <td>0.00000</td>\n",
       "      <td>0.00000</td>\n",
       "      <td>0.00000</td>\n",
       "      <td>0.00178</td>\n",
       "      <td>0.01661</td>\n",
       "      <td>0.02788</td>\n",
       "      <td>0.00297</td>\n",
       "      <td>0.00356</td>\n",
       "      <td>0.00119</td>\n",
       "      <td>0.02017</td>\n",
       "    </tr>\n",
       "    <tr>\n",
       "      <th>13026</th>\n",
       "      <td>pri</td>\n",
       "      <td>0</td>\n",
       "      <td>9606</td>\n",
       "      <td>40662582</td>\n",
       "      <td>Homo sapiens</td>\n",
       "      <td>0.01757</td>\n",
       "      <td>0.02028</td>\n",
       "      <td>0.00767</td>\n",
       "      <td>0.01293</td>\n",
       "      <td>0.01319</td>\n",
       "      <td>...</td>\n",
       "      <td>0.01142</td>\n",
       "      <td>0.01217</td>\n",
       "      <td>0.01196</td>\n",
       "      <td>0.02178</td>\n",
       "      <td>0.02510</td>\n",
       "      <td>0.02896</td>\n",
       "      <td>0.03959</td>\n",
       "      <td>0.00099</td>\n",
       "      <td>0.00079</td>\n",
       "      <td>0.00156</td>\n",
       "    </tr>\n",
       "    <tr>\n",
       "      <th>13027</th>\n",
       "      <td>pri</td>\n",
       "      <td>1</td>\n",
       "      <td>9606</td>\n",
       "      <td>8998998</td>\n",
       "      <td>mitochondrion Homo sapiens</td>\n",
       "      <td>0.01778</td>\n",
       "      <td>0.03724</td>\n",
       "      <td>0.01732</td>\n",
       "      <td>0.00600</td>\n",
       "      <td>0.01689</td>\n",
       "      <td>...</td>\n",
       "      <td>0.00083</td>\n",
       "      <td>0.00041</td>\n",
       "      <td>0.00041</td>\n",
       "      <td>0.00451</td>\n",
       "      <td>0.01402</td>\n",
       "      <td>0.01651</td>\n",
       "      <td>0.00783</td>\n",
       "      <td>0.00156</td>\n",
       "      <td>0.00114</td>\n",
       "      <td>0.02161</td>\n",
       "    </tr>\n",
       "  </tbody>\n",
       "</table>\n",
       "<p>13028 rows × 69 columns</p>\n",
       "</div>"
      ],
      "text/plain": [
       "      Kingdom  DNAtype  SpeciesID   Ncodons  \\\n",
       "0         vrl        0     100217      1995   \n",
       "1         vrl        0     100220      1474   \n",
       "2         vrl        0     100755      4862   \n",
       "3         vrl        0     100880      1915   \n",
       "4         vrl        0     100887     22831   \n",
       "...       ...      ...        ...       ...   \n",
       "13023     pri        0       9601      1097   \n",
       "13024     pri        1       9601      2067   \n",
       "13025     pri        1       9602      1686   \n",
       "13026     pri        0       9606  40662582   \n",
       "13027     pri        1       9606   8998998   \n",
       "\n",
       "                                   SpeciesName      UUU      UUC      UUA  \\\n",
       "0      Epizootic haematopoietic necrosis virus  0.01654  0.01203  0.00050   \n",
       "1                             Bohle iridovirus  0.02714  0.01357  0.00068   \n",
       "2                 Sweet potato leaf curl virus  0.01974   0.0218  0.01357   \n",
       "3                 Northern cereal mosaic virus  0.01775  0.02245  0.01619   \n",
       "4               Soil-borne cereal mosaic virus  0.02816  0.01371  0.00767   \n",
       "...                                        ...      ...      ...      ...   \n",
       "13023                    Pongo pygmaeus abelii  0.02552  0.03555  0.00547   \n",
       "13024      mitochondrion Pongo pygmaeus abelii  0.01258  0.03193  0.01984   \n",
       "13025    mitochondrion Pongo pygmaeus pygmaeus  0.01423  0.03321  0.01661   \n",
       "13026                             Homo sapiens  0.01757  0.02028  0.00767   \n",
       "13027               mitochondrion Homo sapiens  0.01778  0.03724  0.01732   \n",
       "\n",
       "           UUG      CUU  ...      CGG      AGA      AGG      GAU      GAC  \\\n",
       "0      0.00351  0.01203  ...  0.00451  0.01303  0.03559  0.01003  0.04612   \n",
       "1      0.00678  0.00407  ...  0.00136  0.01696  0.03596  0.01221  0.04545   \n",
       "2      0.01543  0.00782  ...  0.00596  0.01974  0.02489  0.03126  0.02036   \n",
       "3      0.00992  0.01567  ...  0.00366  0.01410  0.01671  0.03760  0.01932   \n",
       "4      0.03679  0.01380  ...  0.00604  0.01494  0.01734  0.04148  0.02483   \n",
       "...        ...      ...  ...      ...      ...      ...      ...      ...   \n",
       "13023  0.01367  0.01276  ...  0.00820  0.01367  0.01094  0.01367  0.02279   \n",
       "13024  0.00629  0.01451  ...  0.00145  0.00000  0.00048  0.00194  0.01306   \n",
       "13025  0.00356  0.01127  ...  0.00000  0.00000  0.00000  0.00178  0.01661   \n",
       "13026  0.01293  0.01319  ...  0.01142  0.01217  0.01196  0.02178  0.02510   \n",
       "13027  0.00600  0.01689  ...  0.00083  0.00041  0.00041  0.00451  0.01402   \n",
       "\n",
       "           GAA      GAG      UAA      UAG      UGA  \n",
       "0      0.01203  0.04361  0.00251  0.00050  0.00000  \n",
       "1      0.01560  0.04410  0.00271  0.00068  0.00000  \n",
       "2      0.02242  0.02468  0.00391  0.00000  0.00144  \n",
       "3      0.03029  0.03446  0.00261  0.00157  0.00000  \n",
       "4      0.03359  0.03679  0.00000  0.00044  0.00131  \n",
       "...        ...      ...      ...      ...      ...  \n",
       "13023  0.02005  0.04102  0.00091  0.00091  0.00638  \n",
       "13024  0.01838  0.00677  0.00242  0.00097  0.01887  \n",
       "13025  0.02788  0.00297  0.00356  0.00119  0.02017  \n",
       "13026  0.02896  0.03959  0.00099  0.00079  0.00156  \n",
       "13027  0.01651  0.00783  0.00156  0.00114  0.02161  \n",
       "\n",
       "[13028 rows x 69 columns]"
      ]
     },
     "execution_count": 2,
     "metadata": {},
     "output_type": "execute_result"
    }
   ],
   "source": [
    "df = pd.read_csv(\"codon_usage.csv\")\n",
    "df"
   ]
  },
  {
   "cell_type": "markdown",
   "metadata": {
    "id": "Gbp7bJ-z6qiI"
   },
   "source": [
    "Mamy warning co do typu - niedobrze. Sprawdźmy typy:"
   ]
  },
  {
   "cell_type": "code",
   "execution_count": 3,
   "metadata": {
    "colab": {
     "base_uri": "https://localhost:8080/",
     "height": 711
    },
    "id": "pffM5OF_6qiJ",
    "outputId": "25d196f5-04d8-4a68-d8ca-51826a139f89"
   },
   "outputs": [
    {
     "data": {
      "text/plain": [
       "Kingdom         object\n",
       "DNAtype          int64\n",
       "SpeciesID        int64\n",
       "Ncodons          int64\n",
       "SpeciesName     object\n",
       "UUU             object\n",
       "UUC             object\n",
       "UUA            float64\n",
       "UUG            float64\n",
       "CUU            float64\n",
       "CUC            float64\n",
       "CUA            float64\n",
       "CUG            float64\n",
       "AUU            float64\n",
       "AUC            float64\n",
       "AUA            float64\n",
       "AUG            float64\n",
       "GUU            float64\n",
       "GUC            float64\n",
       "GUA            float64\n",
       "dtype: object"
      ]
     },
     "execution_count": 3,
     "metadata": {},
     "output_type": "execute_result"
    }
   ],
   "source": [
    "df.dtypes.head(20)"
   ]
  },
  {
   "cell_type": "markdown",
   "metadata": {
    "id": "M1gnh6CX6qiK"
   },
   "source": [
    "Kolumny `UUU` i `UUC` powinny być floatami - niedobrze. Na szczęście to tylko literówka w jednym wierszu, co można sprawdzić w danych. Usuniemy ją po prostu."
   ]
  },
  {
   "cell_type": "code",
   "execution_count": 4,
   "metadata": {
    "colab": {
     "base_uri": "https://localhost:8080/",
     "height": 711
    },
    "id": "3svruvT46qiK",
    "outputId": "8b27c6c0-06b8-4d4c-c0be-9abdeda99651"
   },
   "outputs": [
    {
     "data": {
      "text/plain": [
       "Kingdom         object\n",
       "DNAtype          int64\n",
       "SpeciesID        int64\n",
       "Ncodons          int64\n",
       "SpeciesName     object\n",
       "UUU            float64\n",
       "UUC            float64\n",
       "UUA            float64\n",
       "UUG            float64\n",
       "CUU            float64\n",
       "CUC            float64\n",
       "CUA            float64\n",
       "CUG            float64\n",
       "AUU            float64\n",
       "AUC            float64\n",
       "AUA            float64\n",
       "AUG            float64\n",
       "GUU            float64\n",
       "GUC            float64\n",
       "GUA            float64\n",
       "dtype: object"
      ]
     },
     "execution_count": 4,
     "metadata": {},
     "output_type": "execute_result"
    }
   ],
   "source": [
    "df = df[pd.to_numeric(df[\"UUU\"], errors=\"coerce\").notnull()].copy()\n",
    "\n",
    "df = df.copy()  # to avoid irritating SettingWithCopyWarning\n",
    "\n",
    "df[\"UUU\"] = df.loc[:, \"UUU\"].astype(float)\n",
    "df[\"UUC\"] = df.loc[:, \"UUC\"].astype(float)\n",
    "\n",
    "df.dtypes.head(20)"
   ]
  },
  {
   "cell_type": "markdown",
   "metadata": {
    "id": "yaY9IEZF6qiL"
   },
   "source": [
    "**Zadanie 1 (1.5 punktu)**\n",
    "\n",
    "1. Usuń wiersze mające mniej niż 1000 kodonów\n",
    "2. Usuń wiersze dla plazmidów (wartość `plm` dla królestwa)\n",
    "3. Usuń kolumny bezużyteczne dla ML: `DNAtype`, `SpeciesID`, `Ncodons`, `SpeciesName`"
   ]
  },
  {
   "cell_type": "code",
   "execution_count": 5,
   "metadata": {
    "id": "j9ye3UnV6qiL"
   },
   "outputs": [],
   "source": [
    "df = df[df['Ncodons'] >= 1000]\n",
    "df = df[df['Kingdom'] != 'plm']\n",
    "df = df.drop(columns=['DNAtype', 'SpeciesID', 'Ncodons', 'SpeciesName'])"
   ]
  },
  {
   "cell_type": "markdown",
   "metadata": {
    "id": "op12mplw6qiL"
   },
   "source": [
    "4. Zakoduj klasy (kolumna `Kingdom`):\n",
    "  - 0 - archaea, `arc`\n",
    "  - 1 - bacteria, `bct`\n",
    "  - 2 - eukaryota, `pln`, `inv`, `vrt`, `mam`, `rod`, `pri`\n",
    "  - 3 - bacteriophages (phages), `phg`\n",
    "  - 4 - viruses (viral cells), `vrl`\n"
   ]
  },
  {
   "cell_type": "code",
   "execution_count": 6,
   "metadata": {
    "id": "5sNqPmOa6qiL"
   },
   "outputs": [],
   "source": [
    "kingdom_map = {\n",
    "    'arc': 0,\n",
    "    'bct': 1,\n",
    "    'pln': 2, 'inv': 2, 'vrt': 2, 'mam': 2, 'rod': 2, 'pri': 2,\n",
    "    'phg': 3,\n",
    "    'vrl': 4\n",
    "}\n",
    "\n",
    "df['Kingdom'] = df['Kingdom'].map(kingdom_map)"
   ]
  },
  {
   "cell_type": "markdown",
   "metadata": {
    "id": "H0YpLERT6qiL"
   },
   "source": [
    "5. Wyodrębnij klasy jako osobną zmienną `y`. Pamiętaj o usunięciu tej kolumny z oryginalnego DataFrame'a.\n"
   ]
  },
  {
   "cell_type": "code",
   "execution_count": 7,
   "metadata": {
    "id": "tV-erLYG6qiL"
   },
   "outputs": [],
   "source": [
    "y = df['Kingdom']\n",
    "df = df.drop('Kingdom', axis = 1)"
   ]
  },
  {
   "cell_type": "markdown",
   "metadata": {
    "id": "TQV6i5Od6qiL"
   },
   "source": [
    "6. Narysuj wykres rozkładu klas:\n",
    "   - wykres słupkowy (bar plot)\n",
    "   - na osi X mają być nazwy klas pod słupkami, wypisane poziomo\n",
    "   - wartości na osi Y mają być w procentach (znormalizowane 0-100)\n",
    "   - pamiętaj o tytule oraz opisaniu osi"
   ]
  },
  {
   "cell_type": "code",
   "execution_count": 8,
   "metadata": {
    "colab": {
     "base_uri": "https://localhost:8080/",
     "height": 472
    },
    "id": "OBlRiGaY6qiM",
    "outputId": "1c7016f8-7165-4b56-cb97-1b48d1a8a1fd"
   },
   "outputs": [
    {
     "data": {
      "image/png": "[encoded data removed]",
      "text/plain": [
       "<Figure size 640x480 with 1 Axes>"
      ]
     },
     "metadata": {},
     "output_type": "display_data"
    }
   ],
   "source": [
    "from collections import Counter\n",
    "names_map = {\n",
    "    0: 'Archaea',\n",
    "    1: 'Bacteria',\n",
    "    2: 'Eukariota',\n",
    "    3: 'Bacteriophages',\n",
    "    4: 'Viruses'\n",
    "}\n",
    "count_classes = Counter(y)\n",
    "total_sum = sum(count_classes.values())\n",
    "\n",
    "count_classes  = {names_map[key]: round((value / total_sum) * 100, 2) for key,value in count_classes.items()}\n",
    "\n",
    "plt.bar(count_classes.keys(), count_classes.values())\n",
    "plt.xlabel(\"Klasy\")\n",
    "plt.ylabel(\"Procentowy udział (%)\")\n",
    "plt.title(\"Rozkład klas w zbiorze danych\")\n",
    "\n",
    "plt.show()"
   ]
  },
  {
   "cell_type": "markdown",
   "metadata": {
    "id": "0sBUG2Ae6qiM"
   },
   "source": [
    "Jak widać, mamy nie tylko klasyfikację wieloklasową, ale na dodatek klasyfikację niezbalansowaną. W takim przypadku trzeba użyć odpowiednich metryk. Wzorując się na artykule, użyjemy **macro-averaged F1-score**. Jest to proste rozwinięcie F1-score na wiele klas.\n",
    "\n",
    "Dla przypomnienia, w klasyfikacji binarnej, F1-score to średnia harmoniczna precyzji (precision) i czułości (recall):\n",
    "\n",
    "$$\n",
    "F1 = \\frac{2}{recall^{-1} + precision^{-1}} = 2 * \\frac{precision * recall}{precision + recall} = \\frac{2 * TP}{2 * TP + FP + FN}\n",
    "$$\n",
    "\n",
    "Macro-averaging oznacza, że najpierw obliczamy F1-score dla każdej klasy, a później bierzemy ich średnią. Żeby taka średnia była wysoka, to musimy mieć wysoki wynik na wszystkich 5 klasach, w tym 2 mniejszościowych, więc uwzględnimy niezbalansowanie klas."
   ]
  },
  {
   "cell_type": "markdown",
   "metadata": {
    "id": "CnKzIVPX6qiM"
   },
   "source": [
    "## Klasyfikator kNN"
   ]
  },
  {
   "cell_type": "markdown",
   "metadata": {
    "id": "VwXz5Tnw6qiM"
   },
   "source": [
    "Wytrenujemy teraz podstawowy algorytm k najbliższych sąsiadów, korzystając z samych wartości domyślnych ze Scikit-learn: 5 sąsiadów, metryka euklidesowa, brak ważenia.\n",
    "\n",
    "Zgodnie z artykułem, wykorzystamy zwykłą metodę holdout do testowania, dzieląc zbiór na treningowy i testowy w proporcjach 80%-20%. Zrobimy to ze **stratyfikacją (stratification)**, czyli tak, żeby rozkład klas był taki sam w obu podzbiorach."
   ]
  },
  {
   "cell_type": "code",
   "execution_count": 11,
   "metadata": {
    "id": "HG1Jg-nN6qiM"
   },
   "outputs": [],
   "source": [
    "from sklearn.model_selection import train_test_split\n",
    "\n",
    "\n",
    "X_train, X_test, y_train, y_test = train_test_split(\n",
    "    df, y, test_size=0.2, random_state=0, stratify=y\n",
    ")"
   ]
  },
  {
   "cell_type": "code",
   "execution_count": 12,
   "metadata": {
    "colab": {
     "base_uri": "https://localhost:8080/"
    },
    "id": "4b9iliP86qiM",
    "outputId": "e4cfe9d5-60f1-41a2-d9aa-571a328708d1"
   },
   "outputs": [
    {
     "name": "stdout",
     "output_type": "stream",
     "text": [
      "F1 train: 92.51%\n",
      "F1 test: 91.35%\n"
     ]
    }
   ],
   "source": [
    "from sklearn.metrics import f1_score\n",
    "from sklearn.neighbors import KNeighborsClassifier\n",
    "\n",
    "\n",
    "clf = KNeighborsClassifier(n_jobs=-1)\n",
    "clf.fit(X_train, y_train)\n",
    "\n",
    "y_pred_score_train = clf.predict(X_train)\n",
    "y_pred_score_test = clf.predict(X_test)\n",
    "\n",
    "f1_train = f1_score(y_train, y_pred_score_train, average=\"macro\")\n",
    "f1_test = f1_score(y_test, y_pred_score_test, average=\"macro\")\n",
    "\n",
    "print(f\"F1 train: {100 * f1_train:.2f}%\")\n",
    "print(f\"F1 test: {100 * f1_test:.2f}%\")"
   ]
  },
  {
   "cell_type": "markdown",
   "metadata": {
    "id": "H2bQg4PA6qiM"
   },
   "source": [
    "Wyniki są całkiem niezłe, ale jest jeszcze miejsce na poprawę. Być może zmiana liczby sąsiadów albo metryki, albo też dodanie ważenia sąsiadów da nam jeszcze kilka procent.\n",
    "\n",
    "W przypadku wielu klas samo agregowane F1 nie zawsze mówi jednak wszystko. Zawsze warto sprawdzić **macierz pomyłek (confusion matrix)**. Co ważne, można ją rysować albo z surową liczbą przykładów, albo znormalizować, żeby dostać wyniki w ułamku (zakres wartości 0-1). Pierwsza możliwość jest przydatna, kiedy mamy niezbalansowane klasy i patrzymy na ogólną jakość klasyfikatora. Znormalizowane wykresy są z kolei przydatne, kiedy przyglądamy się klasom z osobna."
   ]
  },
  {
   "cell_type": "code",
   "execution_count": 13,
   "metadata": {
    "colab": {
     "base_uri": "https://localhost:8080/",
     "height": 927
    },
    "id": "LJuMDFkm6qiM",
    "outputId": "980b746d-527b-4714-b83a-58285604b855"
   },
   "outputs": [
    {
     "data": {
      "image/png": "[encoded data removed]",
      "text/plain": [
       "<Figure size 640x480 with 2 Axes>"
      ]
     },
     "metadata": {},
     "output_type": "display_data"
    },
    {
     "data": {
      "image/png": "[encoded data removed]",
      "text/plain": [
       "<Figure size 640x480 with 2 Axes>"
      ]
     },
     "metadata": {},
     "output_type": "display_data"
    }
   ],
   "source": [
    "from sklearn.metrics import ConfusionMatrixDisplay\n",
    "\n",
    "ConfusionMatrixDisplay.from_estimator(clf, X_test, y_test)\n",
    "plt.title(\"Confusion matrix (no normalization)\")\n",
    "plt.show()\n",
    "\n",
    "\n",
    "ConfusionMatrixDisplay.from_estimator(clf, X_test, y_test, normalize=\"true\")\n",
    "plt.title(\"Confusion matrix (row-normalized)\")\n",
    "plt.show()"
   ]
  },
  {
   "cell_type": "markdown",
   "metadata": {
    "id": "_gS7QAf86qiN"
   },
   "source": [
    "Wyniki są całkiem niezłe, w końcu mamy wysokie F1. Widać jednak, że dość często mylimy klasę 0 (archeony) oraz klasę 3 (bakteriofagi) z klasą 1 (bakterie) - jest to problematyczne, ale zrozumiałe, bo tych klas jest najmniej.\n",
    "\n",
    "Po tuningu powinniśmy otrzymać lepsze wyniki. Na dobry początek sprawdzimy różną liczbę sąsiadów. Trzeba zwrócić uwagę, że jeżeli nasza metryka ma jakieś argumenty, to trzeba użyć funkcji `make_scorer` i przekazać wynik do `GridSearchCV`.\n",
    "\n",
    "Zwróć też uwagę, że skoro przekazujemy `n_jobs=-1` do klasyfikatora, to grid search dostaje `n_jobs=None`, żeby mieć tyle procesów, co rdzeni procesora. Przy okazji zmierzymy też czas tuningu."
   ]
  },
  {
   "cell_type": "code",
   "execution_count": 14,
   "metadata": {
    "colab": {
     "base_uri": "https://localhost:8080/"
    },
    "id": "UceDSeT66qiN",
    "outputId": "0b376de6-d83d-4d21-bc69-9f54c2ee598a"
   },
   "outputs": [
    {
     "name": "stdout",
     "output_type": "stream",
     "text": [
      "Optimal number of neighbors: 1\n",
      "Tuning time: 80.68 s\n",
      "F1 train: 100.00%\n",
      "F1 test: 89.16%\n"
     ]
    }
   ],
   "source": [
    "from time import time\n",
    "\n",
    "from sklearn.metrics import make_scorer\n",
    "from sklearn.model_selection import GridSearchCV\n",
    "\n",
    "\n",
    "clf = KNeighborsClassifier(n_jobs=-1)\n",
    "\n",
    "param_grid = {\n",
    "    \"n_neighbors\": list(range(1, 51)),\n",
    "}\n",
    "\n",
    "multiclass_f1 = make_scorer(\n",
    "    f1_score,\n",
    "    average=\"macro\",\n",
    "    greater_is_better=True,\n",
    ")\n",
    "\n",
    "cv = GridSearchCV(\n",
    "    estimator=clf,\n",
    "    param_grid=param_grid,\n",
    "    scoring=multiclass_f1,\n",
    "    cv=5,\n",
    ")\n",
    "\n",
    "time_start = time()\n",
    "cv.fit(X_train, y_train)\n",
    "time_end = time()\n",
    "\n",
    "print(f\"Optimal number of neighbors: {cv.best_params_['n_neighbors']}\")\n",
    "print(f\"Tuning time: {time_end - time_start:.2f} s\")\n",
    "\n",
    "y_pred_score_train = cv.predict(X_train)\n",
    "y_pred_score_test = cv.predict(X_test)\n",
    "\n",
    "f1_train = f1_score(y_train, y_pred_score_train, average=\"macro\")\n",
    "f1_test = f1_score(y_test, y_pred_score_test, average=\"macro\")\n",
    "\n",
    "print(f\"F1 train: {100 * f1_train:.2f}%\")\n",
    "print(f\"F1 test: {100 * f1_test:.2f}%\")"
   ]
  },
  {
   "cell_type": "markdown",
   "metadata": {
    "id": "srZcwJyg6qiN"
   },
   "source": [
    "Co ciekawe, po tuningu nie tylko nie mamy lepszego wyniku, ale wręcz przeuczamy bardziej! Tak się niestety zdarza - tuning opiera się na wyniku na zbiorze walidacyjnym, które nie zawsze są dobrą estymatą. Pewnym sposobem na ominięcie tego jest zmniejszenie zakresu dla hiperparametru. Tutaj wiemy, że:\n",
    "- im mniejsza liczba sąsiadów, tym większa wariancja (mocniejszy overfitting) i na odwrót\n",
    "- domyślna liczba sąsiadów to 5\n",
    "- przy 4 przeuczamy mocniej\n",
    "\n",
    "Można więc po prostu sprawdzać zakres od 5 wzwyż. Do tego czeka nas jeszcze tuning metryki i ważenia sąsiadów.\n",
    "\n",
    "**Zadanie 2 (1.5 punktu)**\n",
    "\n",
    "1. Dokonaj tuningu: liczby sąsiadów (zakres [5, 25]), metryki (euklidesowa, Manhattan, cosinusowa) oraz ważenia sąsiadów (brak vs ważenie odległością). Jakie są optymalne wartości hiperparametrów?\n",
    "2. Zmierz czas. Czy twoim zdaniem to długo, dla zbioru, który ma ok. 10k próbek uczących?\n",
    "3. Narysuj macierz pomyłek dla zbioru testowego. Czy wygląda sensownie, szczególnie dla klas mniejszościowych? Czy udało się uzyskać wynik lepszy od bazowego?"
   ]
  },
  {
   "cell_type": "code",
   "execution_count": 15,
   "metadata": {
    "colab": {
     "base_uri": "https://localhost:8080/"
    },
    "id": "jLRB9zJN6qiN",
    "outputId": "a6a4449d-de71-4c03-98f0-a06833292c4b"
   },
   "outputs": [
    {
     "name": "stderr",
     "output_type": "stream",
     "text": [
      "/usr/local/lib/python3.11/dist-packages/sklearn/model_selection/_validation.py:528: FitFailedWarning: \n",
      "300 fits failed out of a total of 600.\n",
      "The score on these train-test partitions for these parameters will be set to nan.\n",
      "If these failures are not expected, you can try to debug them by setting error_score='raise'.\n",
      "\n",
      "Below are more details about the failures:\n",
      "--------------------------------------------------------------------------------\n",
      "300 fits failed with the following error:\n",
      "Traceback (most recent call last):\n",
      "  File \"/usr/local/lib/python3.11/dist-packages/sklearn/model_selection/_validation.py\", line 866, in _fit_and_score\n",
      "    estimator.fit(X_train, y_train, **fit_params)\n",
      "  File \"/usr/local/lib/python3.11/dist-packages/sklearn/base.py\", line 1382, in wrapper\n",
      "    estimator._validate_params()\n",
      "  File \"/usr/local/lib/python3.11/dist-packages/sklearn/base.py\", line 436, in _validate_params\n",
      "    validate_parameter_constraints(\n",
      "  File \"/usr/local/lib/python3.11/dist-packages/sklearn/utils/_param_validation.py\", line 98, in validate_parameter_constraints\n",
      "    raise InvalidParameterError(\n",
      "sklearn.utils._param_validation.InvalidParameterError: The 'weights' parameter of KNeighborsClassifier must be a str among {'distance', 'uniform'}, a callable or None. Got 'unifrom' instead.\n",
      "\n",
      "  warnings.warn(some_fits_failed_message, FitFailedWarning)\n",
      "/usr/local/lib/python3.11/dist-packages/sklearn/model_selection/_search.py:1108: UserWarning: One or more of the test scores are non-finite: [       nan 0.89872804        nan 0.89579616        nan 0.88787217\n",
      "        nan 0.88356541        nan 0.88216098        nan 0.87542685\n",
      "        nan 0.86635735        nan 0.85691101        nan 0.84746943\n",
      "        nan 0.8420284         nan 0.83494195        nan 0.82274504\n",
      "        nan 0.8142975         nan 0.80261099        nan 0.79708474\n",
      "        nan 0.7890249         nan 0.78260251        nan 0.77738039\n",
      "        nan 0.77657168        nan 0.77058145        nan 0.89244224\n",
      "        nan 0.89166536        nan 0.89033106        nan 0.88593406\n",
      "        nan 0.87648121        nan 0.87514525        nan 0.86581656\n",
      "        nan 0.86166689        nan 0.85591571        nan 0.84824013\n",
      "        nan 0.83579392        nan 0.82752993        nan 0.81593279\n",
      "        nan 0.80587531        nan 0.8019683         nan 0.80197122\n",
      "        nan 0.79653051        nan 0.79187629        nan 0.78966521\n",
      "        nan 0.78708712        nan 0.90299904        nan 0.90574539\n",
      "        nan 0.90460996        nan 0.90338457        nan 0.89650308\n",
      "        nan 0.89149881        nan 0.88736149        nan 0.88572912\n",
      "        nan 0.87901757        nan 0.87650267        nan 0.8673638\n",
      "        nan 0.86635081        nan 0.8545131         nan 0.85382801\n",
      "        nan 0.84312543        nan 0.83762282        nan 0.8315682\n",
      "        nan 0.8286614         nan 0.82778462        nan 0.82161049]\n",
      "  warnings.warn(\n"
     ]
    },
    {
     "name": "stdout",
     "output_type": "stream",
     "text": [
      "Optimal number of neighbors: 6\n",
      "Optimal weights: distance\n",
      "Optimal metric: cosine\n",
      "Tuning time: 221.30 s\n",
      "F1 train: 100.00%\n",
      "F1 test: 91.53%\n"
     ]
    }
   ],
   "source": [
    "param_grid = {\n",
    "    \"n_neighbors\": list(range(5,25)),\n",
    "    \"weights\": ('unifrom','distance'),\n",
    "    \"metric\": ('euclidean','manhattan','cosine')\n",
    "}\n",
    "\n",
    "cv = GridSearchCV(\n",
    "    estimator=clf,\n",
    "    param_grid=param_grid,\n",
    "    scoring=multiclass_f1,\n",
    "    cv=5,\n",
    ")\n",
    "\n",
    "time_start = time()\n",
    "cv.fit(X_train, y_train)\n",
    "time_end = time()\n",
    "\n",
    "print(f\"Optimal number of neighbors: {cv.best_params_['n_neighbors']}\")\n",
    "print(f\"Optimal weights: {cv.best_params_['weights']}\")\n",
    "print(f\"Optimal metric: {cv.best_params_['metric']}\")\n",
    "\n",
    "print(f\"Tuning time: {time_end - time_start:.2f} s\")\n",
    "\n",
    "y_pred_score_train = cv.predict(X_train)\n",
    "y_pred_score_test = cv.predict(X_test)\n",
    "\n",
    "f1_train = f1_score(y_train, y_pred_score_train, average=\"macro\")\n",
    "f1_test = f1_score(y_test, y_pred_score_test, average=\"macro\")\n",
    "\n",
    "print(f\"F1 train: {100 * f1_train:.2f}%\")\n",
    "print(f\"F1 test: {100 * f1_test:.2f}%\")"
   ]
  },
  {
   "cell_type": "markdown",
   "metadata": {
    "id": "AwPdSrsU6qiN"
   },
   "source": [
    "Jak na tyle próbek - niedługo."
   ]
  },
  {
   "cell_type": "code",
   "execution_count": 16,
   "metadata": {
    "colab": {
     "base_uri": "https://localhost:8080/",
     "height": 927
    },
    "id": "nQRI9ivM6qiN",
    "outputId": "24a22a63-556f-441b-8327-9ed4feae3444"
   },
   "outputs": [
    {
     "data": {
      "image/png": "[encoded data removed]",
      "text/plain": [
       "<Figure size 640x480 with 2 Axes>"
      ]
     },
     "metadata": {},
     "output_type": "display_data"
    },
    {
     "data": {
      "image/png": "[encoded data removed]",
      "text/plain": [
       "<Figure size 640x480 with 2 Axes>"
      ]
     },
     "metadata": {},
     "output_type": "display_data"
    }
   ],
   "source": [
    "ConfusionMatrixDisplay.from_estimator(cv, X_test, y_test)\n",
    "plt.title(\"Confusion matrix (no normalization)\")\n",
    "plt.show()\n",
    "\n",
    "\n",
    "ConfusionMatrixDisplay.from_estimator(cv, X_test, y_test, normalize=\"true\")\n",
    "plt.title(\"Confusion matrix (row-normalized)\")\n",
    "plt.show()"
   ]
  },
  {
   "cell_type": "markdown",
   "metadata": {
    "id": "n1MraQRB6qiN"
   },
   "source": [
    "Wygląda sensownie, dla klas mniejszościowych również. Udało się uzyskać wynik minimalnie lepszy od bazowego."
   ]
  },
  {
   "cell_type": "markdown",
   "metadata": {
    "id": "jdLWfaMB6qiN"
   },
   "source": [
    "## Approximate Nearest Neighbors (ANN)"
   ]
  },
  {
   "cell_type": "markdown",
   "metadata": {
    "id": "FnCPdlev6qiO"
   },
   "source": [
    "Postaramy się teraz przyspieszyć nasz klasyfikator, w zamian za odrobinę dokładności, za pomocą algorytmu przybliżonych najbliższych sąsiadów, a konkretnie [NN-Descent](https://pynndescent.readthedocs.io/en/latest/index.html). Ten został wybrany głównie ze względu na łatwą w użyciu implementację.\n",
    "\n",
    "Twórcy Scikit-learn'a zdawali sobie sprawę, że algorytmy znajdowania najbliższych sąsiadów to aktywne pole rozwoju, dlatego stworzyli klasę (i interfejs) `KNeighborsTransformer`, pozwalającą integrować zewnętrzne rozwiązania. Działa ona zarówno do klasyfikacji / regresji kNN, jak i do innych algorytmów opartych o sąsiedztwo, które budują graf najbliższych sąsiadów. W przypadku jego użycia trzeba podać `metric=\"precomputed\"`, bo obliczaniem odległości zajmuje się osobny algorytm.\n",
    "\n",
    "Implementacja PyNNDescent korzysta właśnie z tego rozwiązania, co gwarantuje łatwość użycia - klasa `PyNNDescentTransformer` dziedziczy po `KNeighborsTransformer`. Zobaczmy, jak to działa. Wykorzystamy funkcję `make_pipeline()`, która buduje obiekt `Pipeline`, ale nie wymaga podawania nazw kolejnych elementów.\n",
    "\n",
    "**Uwaga:** PyNNDescent dla wydajności korzysta z Numby, czyli kompilatora JIT (Just-In-Time). Dzięki temu działa to bardzo szybko, ale pierwszy import i wykonanie zajmuje sporo czasu. Wykonaj kod 2 razy - za drugim razem będzie o wiele szybciej."
   ]
  },
  {
   "cell_type": "code",
   "execution_count": 32,
   "metadata": {
    "id": "LNk-BALX6qiO"
   },
   "outputs": [],
   "source": [
    "from time import time\n",
    "from sklearn.metrics import accuracy_score\n",
    "\n",
    "\n",
    "def benchmark_knn_and_ann(\n",
    "    sklearn_knn,\n",
    "    pynndescent_ann,\n",
    "    X_train,\n",
    "    X_test,\n",
    "    y_train,\n",
    "    y_test,\n",
    "    accuracy = False\n",
    ") -> None:\n",
    "    # training\n",
    "    start_time = time()\n",
    "    sklearn_knn.fit(X_train, y_train)\n",
    "    end_time = time()\n",
    "\n",
    "    sklearn_knn_fit_time = end_time - start_time\n",
    "\n",
    "    start_time = time()\n",
    "    pynndescent_ann.fit(X_train, y_train)\n",
    "    end_time = time()\n",
    "\n",
    "    pynndescent_ann_fit_time = end_time - start_time\n",
    "\n",
    "    # prediction\n",
    "\n",
    "    start_time = time()\n",
    "    y_pred_sklearn = sklearn_knn.predict(X_test)\n",
    "    end_time = time()\n",
    "\n",
    "    sklearn_knn_predict_time = end_time - start_time\n",
    "\n",
    "    start_time = time()\n",
    "    y_pred_pynndescent = pynndescent_ann.predict(X_test)\n",
    "    end_time = time()\n",
    "\n",
    "    pynndescent_ann_predict_time = end_time - start_time\n",
    "\n",
    "    if accuracy:\n",
    "        accuracy_knn = accuracy_score(y_test, y_pred_sklearn)\n",
    "        accuracy_ann = accuracy_score(y_test, y_pred_pynndescent)\n",
    "    else:\n",
    "        f1_knn = f1_score(y_test, y_pred_sklearn, average=\"macro\")\n",
    "        f1_ann = f1_score(y_test, y_pred_pynndescent, average=\"macro\")\n",
    "\n",
    "    print(f\"Scikit-learn training time: {sklearn_knn_fit_time:.2f}\")\n",
    "    print(f\"PyNNDescent training time: {pynndescent_ann_fit_time:.2f}\")\n",
    "    print()\n",
    "    print(f\"Scikit-learn prediction time: {sklearn_knn_predict_time:.2f}\")\n",
    "    print(f\"PyNNDescent prediction time: {pynndescent_ann_predict_time:.2f}\")\n",
    "    print()\n",
    "    if accuracy:\n",
    "        print(f\"Scikit-learn accuracy: {100 * accuracy_knn:.2f}%\")\n",
    "        print(f\"PyNNDescent accuracy: {100 * accuracy_knn:.2f}%\")\n",
    "    else:\n",
    "        print(f\"Scikit-learn F1: {100 * f1_knn:.2f}%\")\n",
    "        print(f\"PyNNDescent F1: {100 * f1_ann:.2f}%\")\n"
   ]
  },
  {
   "cell_type": "code",
   "execution_count": 18,
   "metadata": {
    "colab": {
     "base_uri": "https://localhost:8080/"
    },
    "id": "uyRdXcwj6qiO",
    "outputId": "fb6ecf33-6aaf-4094-eea0-85941b51afa8"
   },
   "outputs": [
    {
     "name": "stdout",
     "output_type": "stream",
     "text": [
      "Scikit-learn training time: 0.01\n",
      "PyNNDescent training time: 44.06\n",
      "\n",
      "Scikit-learn prediction time: 0.62\n",
      "PyNNDescent prediction time: 0.30\n",
      "\n",
      "Scikit-learn F1: 91.35%\n",
      "PyNNDescent F1: 91.25%\n"
     ]
    }
   ],
   "source": [
    "from pynndescent import PyNNDescentTransformer\n",
    "from sklearn.pipeline import make_pipeline\n",
    "\n",
    "\n",
    "sklearn_knn = KNeighborsClassifier(metric=\"euclidean\")\n",
    "\n",
    "pynndescent_ann = make_pipeline(\n",
    "    PyNNDescentTransformer(metric=\"euclidean\", random_state=0),\n",
    "    KNeighborsClassifier(metric=\"precomputed\"),\n",
    ")\n",
    "\n",
    "benchmark_knn_and_ann(sklearn_knn, pynndescent_ann, X_train, X_test, y_train, y_test)"
   ]
  },
  {
   "cell_type": "markdown",
   "metadata": {
    "id": "uQXuiHJK6qiO"
   },
   "source": [
    "Czas treningu jest dłuższy - to oczekiwany wynik. Natomiast czas predykcji jest podobny - wynika to z tego, że dla metryki euklidesowej k-d tree jest bardzo wydajne. Wynik jest bardzo podobny, więc mamy dobre przybliżenie.\n",
    "\n",
    "Sprawdźmy metrykę Manhattan, dla której typowo k-d tree radzi sobie nieco gorzej."
   ]
  },
  {
   "cell_type": "code",
   "execution_count": 19,
   "metadata": {
    "colab": {
     "base_uri": "https://localhost:8080/"
    },
    "id": "aPAcCniW6qiO",
    "outputId": "1f25389e-5184-4d39-89eb-bae03b359243",
    "scrolled": true
   },
   "outputs": [
    {
     "name": "stdout",
     "output_type": "stream",
     "text": [
      "Scikit-learn training time: 0.03\n",
      "PyNNDescent training time: 17.47\n",
      "\n",
      "Scikit-learn prediction time: 2.06\n",
      "PyNNDescent prediction time: 0.24\n",
      "\n",
      "Scikit-learn F1: 91.39%\n",
      "PyNNDescent F1: 91.39%\n"
     ]
    }
   ],
   "source": [
    "sklearn_knn = KNeighborsClassifier(metric=\"manhattan\")\n",
    "\n",
    "pynndescent_ann = make_pipeline(\n",
    "    PyNNDescentTransformer(metric=\"manhattan\", random_state=0),\n",
    "    KNeighborsClassifier(metric=\"precomputed\"),\n",
    ")\n",
    "\n",
    "benchmark_knn_and_ann(sklearn_knn, pynndescent_ann, X_train, X_test, y_train, y_test)"
   ]
  },
  {
   "cell_type": "markdown",
   "metadata": {
    "id": "n7h0yQy66qiQ"
   },
   "source": [
    "Tutaj predykcja ANN jest już wyraźnie szybsza - co prawda dane są niezbyt duże, więc nie ma to aż takiego znaczenia, ale widać potencjał skalowalności. Dodatkowo wynik jest taki sam."
   ]
  },
  {
   "cell_type": "markdown",
   "metadata": {
    "id": "gvdXCNTi6qiQ"
   },
   "source": [
    "## Zbiór danych - klasyfikacja danych chemicznych"
   ]
  },
  {
   "cell_type": "markdown",
   "metadata": {
    "id": "c45nCgq46qiQ"
   },
   "source": [
    "Teraz zajmiemy się klasyfikacją zbioru posiadającego same zmienne binarne, do których trzeba użyć odpowiednich metryk. Konkretnie, będzie to zbiór [HIV z benchmarku MoleculeNet](https://moleculenet.org/datasets-1), w którym na podstawie reprezentacji chemicznej molekuły trzeba przewidywać, czy jest ona inhibitorem wirusa HIV. [Inhibitory](https://en.wikipedia.org/wiki/Reaction_inhibitor) to substancje przeciwne do katalizatorów - spowalniają lub uniemożliwiają jakieś zjawisko, w naszym wypadku infekcję wirusa HIV. Przewidywanie własności molekuł to kluczowe zadanie w nowoczesnym projektowaniu leków i bardzo ważne zastosowanie ML w farmacji i chemii molekularnej.\n",
    "\n",
    "Zbiór jest już podzielony na treningowy, walidacyjny i testowy w ramach projektu [Open Graph Benchmark](https://ogb.stanford.edu/docs/graphprop/). Dane te można traktować jak klasyfikację grafów molekularnych, np. z pomocą grafowych sieci neuronowych. Jednak podejściem klasycznym i dającym często lepsze wyniki są **fingerprinty molekularne (molecular fingerprints)**. Są to deterministyczne algorytmy ekstrakcji cech z grafu, zamieniające go na wektor. Jest ich dużo, ale najpopularniejszy to [ECFP (Extended Connectivity FingerPrint)](https://docs.chemaxon.com/display/docs/extended-connectivity-fingerprint-ecfp.md), wykorzystujący informację o subgrafach o małym promieniu (typowo 4). Domyślnie skutkuje to cechami binarnymi, czy subgraf wystąpił, czy nie w danej molekule.\n",
    "\n",
    "Molekuły są typowo przechowywane w formacie [SMILES strings](https://en.wikipedia.org/wiki/Simplified_Molecular_Input_Line_Entry_System). Graf molekularny można odczytać z tego formatu, a potem przekazać taki zbiór do fingerprintu. Wtedy zamieniamy problem na zwykłą klasyfikację tabelaryczną. Scikit-fingerprints zrobi to automatycznie, jeżeli SMILES strings zostaną przekazane do fingerprintu.\n",
    "\n",
    "Jako że zbiór jest binarny, to nie ma potrzeby żadnego skalowania zmiennych. W przypadku zbioru HIV typową metryką jest Area Under Receiver Operating Characteristic (AUROC / ROC AUC)."
   ]
  },
  {
   "cell_type": "markdown",
   "metadata": {
    "id": "0Uwn6vLJ6qiQ"
   },
   "source": [
    "**Zadanie 3 (1 punkt)**\n",
    "\n",
    "1. Załaduj zbiór HIV z pomocą funkcji [load_hiv()](https://scikit-fingerprints.github.io/scikit-fingerprints/modules/datasets/generated/skfp.datasets.moleculenet.load_hiv.html#skfp.datasets.moleculenet.load_hiv). Wypisz kilka pierwszych SMILESów.\n",
    "2. Załaduj indeksy treningowe, walidacyjne i testowe z benchmarku OGB z pomocą funkcji [load_ogb_splits()](https://scikit-fingerprints.github.io/scikit-fingerprints/modules/datasets/generated/skfp.datasets.moleculenet.load_ogb_splits.html).\n",
    "3. Podziel zbiór (SMILES oraz klasy `y`) na treningowe, walidacyjne i treningowe.\n",
    "4. Narysuj wykres częstości klas w zbiorze treningowym. Jak sądzisz, czemu akurat AUROC zostało tutaj wybrane jako metryka?\n",
    "5. Oblicz fingerprinty ECFP z użyciem [ECFPFingerprint](https://scikit-fingerprints.github.io/scikit-fingerprints/modules/generated/skfp.fingerprints.ECFPFingerprint.html#skfp.fingerprints.ECFPFingerprint) dla wszystkich 3 podzbiorów."
   ]
  },
  {
   "cell_type": "code",
   "execution_count": 20,
   "metadata": {
    "colab": {
     "base_uri": "https://localhost:8080/"
    },
    "id": "6oZ-aMCz85dz",
    "outputId": "d9c8660b-73c4-42d0-baa0-49f16c8d11de"
   },
   "outputs": [
    {
     "name": "stdout",
     "output_type": "stream",
     "text": [
      "Collecting scikit-fingerprints\n",
      "  Downloading scikit_fingerprints-1.15.0-py3-none-any.whl.metadata (11 kB)\n",
      "Collecting descriptastorus<3,>=2.0.0 (from scikit-fingerprints)\n",
      "  Downloading descriptastorus-2.8.0-py3-none-any.whl.metadata (364 bytes)\n",
      "Collecting e3fp<2,>=1.2.6 (from scikit-fingerprints)\n",
      "  Downloading e3fp-1.2.7-py3-none-any.whl.metadata (5.0 kB)\n",
      "Requirement already satisfied: huggingface_hub<1 in /usr/local/lib/python3.11/dist-packages (from scikit-fingerprints) (0.29.3)\n",
      "Requirement already satisfied: joblib<2,>=1.0.0 in /usr/local/lib/python3.11/dist-packages (from scikit-fingerprints) (1.4.2)\n",
      "Collecting mordredcommunity<3,>=2.0.0 (from scikit-fingerprints)\n",
      "  Downloading mordredcommunity-2.0.6-py3-none-any.whl.metadata (6.2 kB)\n",
      "Requirement already satisfied: numba<1 in /usr/local/lib/python3.11/dist-packages (from scikit-fingerprints) (0.60.0)\n",
      "Requirement already satisfied: numpy<3,>=1.20.0 in /usr/local/lib/python3.11/dist-packages (from scikit-fingerprints) (2.0.2)\n",
      "Requirement already satisfied: pandas<3 in /usr/local/lib/python3.11/dist-packages (from scikit-fingerprints) (2.2.2)\n",
      "Collecting rdkit<=2024.9.5 (from scikit-fingerprints)\n",
      "  Downloading rdkit-2024.9.5-cp311-cp311-manylinux_2_28_x86_64.whl.metadata (4.0 kB)\n",
      "Requirement already satisfied: scikit-learn<2,>=1.0.0 in /usr/local/lib/python3.11/dist-packages (from scikit-fingerprints) (1.6.1)\n",
      "Requirement already satisfied: scipy<2,>=1.0.0 in /usr/local/lib/python3.11/dist-packages (from scikit-fingerprints) (1.14.1)\n",
      "Requirement already satisfied: tqdm<5,>=4.0.0 in /usr/local/lib/python3.11/dist-packages (from scikit-fingerprints) (4.67.1)\n",
      "Collecting pandas-flavor (from descriptastorus<3,>=2.0.0->scikit-fingerprints)\n",
      "  Downloading pandas_flavor-0.6.0-py3-none-any.whl.metadata (6.3 kB)\n",
      "Collecting mmh3>=2.3.1 (from e3fp<2,>=1.2.6->scikit-fingerprints)\n",
      "  Downloading mmh3-5.1.0-cp311-cp311-manylinux_2_5_x86_64.manylinux1_x86_64.manylinux_2_17_x86_64.manylinux2014_x86_64.whl.metadata (16 kB)\n",
      "Collecting sdaxen_python_utilities>=0.1.5 (from e3fp<2,>=1.2.6->scikit-fingerprints)\n",
      "  Downloading sdaxen_python_utilities-0.1.5-py3-none-any.whl.metadata (1.1 kB)\n",
      "Requirement already satisfied: smart_open>=1.8.3 in /usr/local/lib/python3.11/dist-packages (from e3fp<2,>=1.2.6->scikit-fingerprints) (7.1.0)\n",
      "Requirement already satisfied: filelock in /usr/local/lib/python3.11/dist-packages (from huggingface_hub<1->scikit-fingerprints) (3.18.0)\n",
      "Requirement already satisfied: fsspec>=2023.5.0 in /usr/local/lib/python3.11/dist-packages (from huggingface_hub<1->scikit-fingerprints) (2025.3.0)\n",
      "Requirement already satisfied: packaging>=20.9 in /usr/local/lib/python3.11/dist-packages (from huggingface_hub<1->scikit-fingerprints) (24.2)\n",
      "Requirement already satisfied: pyyaml>=5.1 in /usr/local/lib/python3.11/dist-packages (from huggingface_hub<1->scikit-fingerprints) (6.0.2)\n",
      "Requirement already satisfied: requests in /usr/local/lib/python3.11/dist-packages (from huggingface_hub<1->scikit-fingerprints) (2.32.3)\n",
      "Requirement already satisfied: typing-extensions>=3.7.4.3 in /usr/local/lib/python3.11/dist-packages (from huggingface_hub<1->scikit-fingerprints) (4.13.0)\n",
      "Requirement already satisfied: six in /usr/local/lib/python3.11/dist-packages (from mordredcommunity<3,>=2.0.0->scikit-fingerprints) (1.17.0)\n",
      "Requirement already satisfied: networkx in /usr/local/lib/python3.11/dist-packages (from mordredcommunity<3,>=2.0.0->scikit-fingerprints) (3.4.2)\n",
      "Requirement already satisfied: llvmlite<0.44,>=0.43.0dev0 in /usr/local/lib/python3.11/dist-packages (from numba<1->scikit-fingerprints) (0.43.0)\n",
      "Requirement already satisfied: python-dateutil>=2.8.2 in /usr/local/lib/python3.11/dist-packages (from pandas<3->scikit-fingerprints) (2.8.2)\n",
      "Requirement already satisfied: pytz>=2020.1 in /usr/local/lib/python3.11/dist-packages (from pandas<3->scikit-fingerprints) (2025.2)\n",
      "Requirement already satisfied: tzdata>=2022.7 in /usr/local/lib/python3.11/dist-packages (from pandas<3->scikit-fingerprints) (2025.2)\n",
      "Requirement already satisfied: Pillow in /usr/local/lib/python3.11/dist-packages (from rdkit<=2024.9.5->scikit-fingerprints) (11.1.0)\n",
      "Requirement already satisfied: threadpoolctl>=3.1.0 in /usr/local/lib/python3.11/dist-packages (from scikit-learn<2,>=1.0.0->scikit-fingerprints) (3.6.0)\n",
      "Requirement already satisfied: wrapt in /usr/local/lib/python3.11/dist-packages (from smart_open>=1.8.3->e3fp<2,>=1.2.6->scikit-fingerprints) (1.17.2)\n",
      "Requirement already satisfied: xarray in /usr/local/lib/python3.11/dist-packages (from pandas-flavor->descriptastorus<3,>=2.0.0->scikit-fingerprints) (2025.1.2)\n",
      "Requirement already satisfied: charset-normalizer<4,>=2 in /usr/local/lib/python3.11/dist-packages (from requests->huggingface_hub<1->scikit-fingerprints) (3.4.1)\n",
      "Requirement already satisfied: idna<4,>=2.5 in /usr/local/lib/python3.11/dist-packages (from requests->huggingface_hub<1->scikit-fingerprints) (3.10)\n",
      "Requirement already satisfied: urllib3<3,>=1.21.1 in /usr/local/lib/python3.11/dist-packages (from requests->huggingface_hub<1->scikit-fingerprints) (2.3.0)\n",
      "Requirement already satisfied: certifi>=2017.4.17 in /usr/local/lib/python3.11/dist-packages (from requests->huggingface_hub<1->scikit-fingerprints) (2025.1.31)\n",
      "Downloading scikit_fingerprints-1.15.0-py3-none-any.whl (357 kB)\n",
      "\u001b[2K   \u001b[90m━━━━━━━━━━━━━━━━━━━━━━━━━━━━━━━━━━━━━━━━\u001b[0m \u001b[32m357.0/357.0 kB\u001b[0m \u001b[31m17.3 MB/s\u001b[0m eta \u001b[36m0:00:00\u001b[0m\n",
      "\u001b[?25hDownloading descriptastorus-2.8.0-py3-none-any.whl (2.1 MB)\n",
      "\u001b[2K   \u001b[90m━━━━━━━━━━━━━━━━━━━━━━━━━━━━━━━━━━━━━━━━\u001b[0m \u001b[32m2.1/2.1 MB\u001b[0m \u001b[31m69.0 MB/s\u001b[0m eta \u001b[36m0:00:00\u001b[0m\n",
      "\u001b[?25hDownloading e3fp-1.2.7-py3-none-any.whl (66 kB)\n",
      "\u001b[2K   \u001b[90m━━━━━━━━━━━━━━━━━━━━━━━━━━━━━━━━━━━━━━━━\u001b[0m \u001b[32m66.8/66.8 kB\u001b[0m \u001b[31m5.4 MB/s\u001b[0m eta \u001b[36m0:00:00\u001b[0m\n",
      "\u001b[?25hDownloading mordredcommunity-2.0.6-py3-none-any.whl (175 kB)\n",
      "\u001b[2K   \u001b[90m━━━━━━━━━━━━━━━━━━━━━━━━━━━━━━━━━━━━━━━━\u001b[0m \u001b[32m176.0/176.0 kB\u001b[0m \u001b[31m13.4 MB/s\u001b[0m eta \u001b[36m0:00:00\u001b[0m\n",
      "\u001b[?25hDownloading rdkit-2024.9.5-cp311-cp311-manylinux_2_28_x86_64.whl (34.3 MB)\n",
      "\u001b[2K   \u001b[90m━━━━━━━━━━━━━━━━━━━━━━━━━━━━━━━━━━━━━━━━\u001b[0m \u001b[32m34.3/34.3 MB\u001b[0m \u001b[31m34.8 MB/s\u001b[0m eta \u001b[36m0:00:00\u001b[0m\n",
      "\u001b[?25hDownloading mmh3-5.1.0-cp311-cp311-manylinux_2_5_x86_64.manylinux1_x86_64.manylinux_2_17_x86_64.manylinux2014_x86_64.whl (101 kB)\n",
      "\u001b[2K   \u001b[90m━━━━━━━━━━━━━━━━━━━━━━━━━━━━━━━━━━━━━━━━\u001b[0m \u001b[32m101.6/101.6 kB\u001b[0m \u001b[31m8.2 MB/s\u001b[0m eta \u001b[36m0:00:00\u001b[0m\n",
      "\u001b[?25hDownloading sdaxen_python_utilities-0.1.5-py3-none-any.whl (12 kB)\n",
      "Downloading pandas_flavor-0.6.0-py3-none-any.whl (7.2 kB)\n",
      "Installing collected packages: sdaxen_python_utilities, rdkit, mmh3, mordredcommunity, e3fp, pandas-flavor, descriptastorus, scikit-fingerprints\n",
      "Successfully installed descriptastorus-2.8.0 e3fp-1.2.7 mmh3-5.1.0 mordredcommunity-2.0.6 pandas-flavor-0.6.0 rdkit-2024.9.5 scikit-fingerprints-1.15.0 sdaxen_python_utilities-0.1.5\n"
     ]
    }
   ],
   "source": [
    "!pip install scikit-fingerprints"
   ]
  },
  {
   "cell_type": "code",
   "execution_count": 21,
   "metadata": {
    "colab": {
     "base_uri": "https://localhost:8080/"
    },
    "id": "ICHi3IZq6qiQ",
    "outputId": "4dd19680-44d9-4602-b885-7cf359a6da26"
   },
   "outputs": [
    {
     "name": "stderr",
     "output_type": "stream",
     "text": [
      "/usr/local/lib/python3.11/dist-packages/huggingface_hub/utils/_auth.py:94: UserWarning: \n",
      "The secret `HF_TOKEN` does not exist in your Colab secrets.\n",
      "To authenticate with the Hugging Face Hub, create a token in your settings tab (https://huggingface.co/settings/tokens), set it as secret in your Google Colab and restart your session.\n",
      "You will be able to reuse this secret in all of your notebooks.\n",
      "Please note that authentication is recommended but still optional to access public models or datasets.\n",
      "  warnings.warn(\n",
      "/usr/local/lib/python3.11/dist-packages/huggingface_hub/file_download.py:797: FutureWarning: `resume_download` is deprecated and will be removed in version 1.0.0. Downloads always resume when possible. If you want to force a new download, use `force_download=True`.\n",
      "  warnings.warn(\n"
     ]
    },
    {
     "name": "stdout",
     "output_type": "stream",
     "text": [
      "0    CCC1=[O+][Cu-3]2([O+]=C(CC)C1)[O+]=C(CC)CC(CC)...\n",
      "1    C(=Cc1ccccc1)C1=[O+][Cu-3]2([O+]=C(C=Cc3ccccc3...\n",
      "2                     CC(=O)N1c2ccccc2Sc2c1ccc1ccccc21\n",
      "3      Nc1ccc(C=Cc2ccc(N)cc2S(=O)(=O)O)c(S(=O)(=O)O)c1\n",
      "4                               O=S(=O)(O)CCS(=O)(=O)O\n",
      "Name: SMILES, dtype: object\n"
     ]
    },
    {
     "name": "stderr",
     "output_type": "stream",
     "text": [
      "/usr/local/lib/python3.11/dist-packages/huggingface_hub/file_download.py:797: FutureWarning: `resume_download` is deprecated and will be removed in version 1.0.0. Downloads always resume when possible. If you want to force a new download, use `force_download=True`.\n",
      "  warnings.warn(\n"
     ]
    }
   ],
   "source": [
    "from skfp.datasets.moleculenet import load_hiv, load_ogb_splits\n",
    "from skfp.fingerprints import ECFPFingerprint\n",
    "\n",
    "hiv = load_hiv(as_frame=True)\n",
    "train_idxs, valid_idxs, test_idxs = load_ogb_splits(dataset_name= \"HIV\")\n",
    "smiles = hiv['SMILES']\n",
    "print(smiles[:5])\n",
    "y = hiv.pop('label')"
   ]
  },
  {
   "cell_type": "code",
   "execution_count": 22,
   "metadata": {
    "colab": {
     "base_uri": "https://localhost:8080/",
     "height": 472
    },
    "id": "mLLQK1wHIpLn",
    "outputId": "cb619600-40e0-4565-e3e8-8bb33580269d"
   },
   "outputs": [
    {
     "data": {
      "image/png": "[encoded data removed]",
      "text/plain": [
       "<Figure size 640x480 with 1 Axes>"
      ]
     },
     "metadata": {},
     "output_type": "display_data"
    }
   ],
   "source": [
    "X_train = smiles[train_idxs]\n",
    "y_train = y[train_idxs]\n",
    "\n",
    "X_valid = smiles[valid_idxs]\n",
    "y_valid = y[valid_idxs]\n",
    "\n",
    "X_test = smiles[test_idxs]\n",
    "y_test = y[test_idxs]\n",
    "\n",
    "\n",
    "plt.hist(y_train, bins=[-0.5, 0.5, 1.5], rwidth=0.8)\n",
    "plt.title(\"Rozkład klas\")\n",
    "plt.xlabel(\"Klasa\")\n",
    "plt.ylabel(\"Liczba próbek\")\n",
    "plt.xticks([0, 1], labels=[\"0\", \"1\"])\n",
    "plt.show()"
   ]
  },
  {
   "cell_type": "code",
   "execution_count": 23,
   "metadata": {
    "colab": {
     "base_uri": "https://localhost:8080/"
    },
    "id": "bZQKZXufJLkP",
    "outputId": "888180c5-6f37-466a-cfc8-ca85dd0b181f"
   },
   "outputs": [
    {
     "name": "stderr",
     "output_type": "stream",
     "text": [
      "[14:18:51] WARNING: not removing hydrogen atom without neighbors\n",
      "[14:18:51] WARNING: not removing hydrogen atom without neighbors\n"
     ]
    }
   ],
   "source": [
    "fp = ECFPFingerprint()\n",
    "X_train = fp.transform(X_train)\n",
    "X_valid = fp.transform(X_valid)\n",
    "X_test = fp.transform(X_test)"
   ]
  },
  {
   "cell_type": "markdown",
   "metadata": {
    "id": "C-oqBuZL6qiQ"
   },
   "source": [
    "**Zadanie 4 (1.5 punktu)**\n",
    "\n",
    "1. Wytrenuj klasyfikator kNN z domyślnymi hiperparametrami, używając metryki Jaccarda (Tanimoto). Zmierz AUROC na zbiorze testowym. Pamiętaj, żeby przekazać odpowiednie wartości do metryki (patrz [przykład w dokumentacji](https://scikit-learn.org/stable/modules/generated/sklearn.metrics.roc_auc_score.html)).\n",
    "2. Zmierz czas treningu oraz predykcji. Czy podczas treningu została zbudowana jakakolwiek struktura danych?\n",
    "3. Dokonaj tuningu liczby sąsiadów z zakresu [1, 5, 10]. Wykorzystaj tutaj istniejący zbiór walidacyjny z pomocą `PredefinedSplit`. Może się przydać [ta odpowiedź na StackOverflow](https://stackoverflow.com/a/70155766/9472066). Do tuningu wykorzystaj metrykę AUROC (argument `scoring`).\n",
    "4. Porównaj wyniki algorytmu po tuningu z wynikami z artykułu [\"Molecular Topological Profile (MOLTOP) -- Simple and Strong Baseline for Molecular Graph Classification\" J. Adamczyk, W. Czech](https://arxiv.org/abs/2407.12136).\n",
    "\n",
    "![Screenshot from 2025-03-16 09-45-50.png](attachment:59431cbf-16e9-48a6-9eab-c25cdfb4f340.png)"
   ]
  },
  {
   "cell_type": "code",
   "execution_count": 24,
   "metadata": {
    "colab": {
     "base_uri": "https://localhost:8080/"
    },
    "id": "siGEuxpI6qiQ",
    "outputId": "53ff7083-b11a-465f-b7f7-08faf94c01b1"
   },
   "outputs": [
    {
     "name": "stdout",
     "output_type": "stream",
     "text": [
      "Training time: 0.02\n"
     ]
    }
   ],
   "source": [
    "knn_clf = KNeighborsClassifier(metric='jaccard')\n",
    "\n",
    "time_start = time()\n",
    "knn_clf.fit(X_train, y_train)\n",
    "time_end = time()\n",
    "print(f\"Training time: {time_end - time_start:.2f}\")"
   ]
  },
  {
   "cell_type": "code",
   "execution_count": 25,
   "metadata": {
    "colab": {
     "base_uri": "https://localhost:8080/"
    },
    "id": "mUOxVQapKjJK",
    "outputId": "285f5bfa-ee88-4554-8741-9a7f4abf0390"
   },
   "outputs": [
    {
     "name": "stderr",
     "output_type": "stream",
     "text": [
      "/usr/local/lib/python3.11/dist-packages/sklearn/metrics/pairwise.py:2466: DataConversionWarning: Data was converted to boolean for metric jaccard\n",
      "  warnings.warn(msg, DataConversionWarning)\n",
      "/usr/local/lib/python3.11/dist-packages/sklearn/metrics/pairwise.py:2466: DataConversionWarning: Data was converted to boolean for metric jaccard\n",
      "  warnings.warn(msg, DataConversionWarning)\n"
     ]
    }
   ],
   "source": [
    "time_start = time()\n",
    "y_pred = knn_clf.predict_proba(X_test)[:,1]\n",
    "time_end = time()"
   ]
  },
  {
   "cell_type": "code",
   "execution_count": 26,
   "metadata": {
    "colab": {
     "base_uri": "https://localhost:8080/"
    },
    "id": "8gqH4tHI6qiR",
    "outputId": "21df968a-c445-4893-ef85-4fe121e1f56a"
   },
   "outputs": [
    {
     "name": "stdout",
     "output_type": "stream",
     "text": [
      "Predicting time: 953.44\n",
      "Auroc score: 0.72\n"
     ]
    }
   ],
   "source": [
    "from sklearn.metrics import roc_auc_score\n",
    "\n",
    "predicting_time = time_end - time_start\n",
    "print(f\"Predicting time: {predicting_time:.2f}\")\n",
    "\n",
    "print(f\"Auroc score: {roc_auc_score(y_test, y_pred):.2f}\")"
   ]
  },
  {
   "cell_type": "code",
   "execution_count": 27,
   "metadata": {
    "id": "xpVerhGo6qiR"
   },
   "outputs": [],
   "source": [
    "from sklearn.model_selection import PredefinedSplit\n",
    "\n",
    "\n",
    "param_grid = {\n",
    "    'n_neighbors':  [1, 5, 10]\n",
    "}\n",
    "\n",
    "split_index = [-1]*len(X_train) + [0]*len(X_valid)\n",
    "X = np.concatenate((X_train, X_valid), axis=0)\n",
    "y = np.concatenate((y_train, y_valid), axis=0)\n",
    "pds = PredefinedSplit(test_fold = split_index)\n",
    "\n",
    "cv_clf = GridSearchCV(estimator = knn_clf,\n",
    "                   cv=pds,\n",
    "                   param_grid=param_grid, scoring = 'roc_auc')"
   ]
  },
  {
   "cell_type": "code",
   "execution_count": 28,
   "metadata": {
    "colab": {
     "base_uri": "https://localhost:8080/"
    },
    "id": "AUAu0Qjx6qiR",
    "outputId": "04324c97-7609-4f9c-a782-e69bb61914dc"
   },
   "outputs": [
    {
     "name": "stderr",
     "output_type": "stream",
     "text": [
      "/usr/local/lib/python3.11/dist-packages/sklearn/metrics/pairwise.py:2466: DataConversionWarning: Data was converted to boolean for metric jaccard\n",
      "  warnings.warn(msg, DataConversionWarning)\n",
      "/usr/local/lib/python3.11/dist-packages/sklearn/metrics/pairwise.py:2466: DataConversionWarning: Data was converted to boolean for metric jaccard\n",
      "  warnings.warn(msg, DataConversionWarning)\n",
      "/usr/local/lib/python3.11/dist-packages/sklearn/metrics/pairwise.py:2466: DataConversionWarning: Data was converted to boolean for metric jaccard\n",
      "  warnings.warn(msg, DataConversionWarning)\n",
      "/usr/local/lib/python3.11/dist-packages/sklearn/metrics/pairwise.py:2466: DataConversionWarning: Data was converted to boolean for metric jaccard\n",
      "  warnings.warn(msg, DataConversionWarning)\n",
      "/usr/local/lib/python3.11/dist-packages/sklearn/metrics/pairwise.py:2466: DataConversionWarning: Data was converted to boolean for metric jaccard\n",
      "  warnings.warn(msg, DataConversionWarning)\n",
      "/usr/local/lib/python3.11/dist-packages/sklearn/metrics/pairwise.py:2466: DataConversionWarning: Data was converted to boolean for metric jaccard\n",
      "  warnings.warn(msg, DataConversionWarning)\n"
     ]
    }
   ],
   "source": [
    "time_start = time()\n",
    "cv_clf.fit(X, y)\n",
    "time_end = time()"
   ]
  },
  {
   "cell_type": "code",
   "execution_count": 29,
   "metadata": {
    "colab": {
     "base_uri": "https://localhost:8080/"
    },
    "id": "yPVYKk_4yjJu",
    "outputId": "429db85b-207a-443f-ada4-5f1f39570ca8"
   },
   "outputs": [
    {
     "name": "stdout",
     "output_type": "stream",
     "text": [
      "Training time: 2897.62\n",
      "Optimal number of neighbors: 10\n",
      "Best AUROC: 0.74\n"
     ]
    }
   ],
   "source": [
    "print(f\"Training time: {time_end - time_start:.2f}\")\n",
    "print(f\"Optimal number of neighbors: {cv_clf.best_params_['n_neighbors']}\")\n",
    "print(f\"Best AUROC: {cv_clf.best_score_:.2f}\")"
   ]
  },
  {
   "cell_type": "code",
   "execution_count": 30,
   "metadata": {
    "colab": {
     "base_uri": "https://localhost:8080/"
    },
    "id": "Q-0PPNra6qiR",
    "outputId": "810f0160-ba6b-4bd7-9c34-2567385a2abe"
   },
   "outputs": [
    {
     "name": "stdout",
     "output_type": "stream",
     "text": [
      "Training time: 2897.62\n",
      "Predicting time: 0.00\n"
     ]
    }
   ],
   "source": [
    "print(f\"Training time: {time_end - time_start:.2f}\")\n",
    "time_start = time()\n",
    "cv_clf.predict\n",
    "time_end = time()\n",
    "\n",
    "print(f\"Predicting time: {time_end - time_start:.2f}\")"
   ]
  },
  {
   "cell_type": "markdown",
   "metadata": {
    "id": "0ZlOHwa16qiR"
   },
   "source": [
    "// skomentuj tutaj"
   ]
  },
  {
   "cell_type": "markdown",
   "metadata": {
    "id": "QMoRpY8s6qiR"
   },
   "source": [
    "**Zadanie 5 (1.5 punktu)**\n",
    "\n",
    "1. Stwórz pipeline do klasyfikacji ANN z użyciem PyNNDescent. Wykorzystaj metrykę Jaccarda (Tanimoto) i znalezioną wcześniej optymalną liczbę sąsiadów.\n",
    "2. Wytrenuj zwykłe kNN oraz ANN oraz dokonaj predykcji. Zmierz czas oraz dokładność obu metod. Czy twoim zdaniem warto dokonać w tym wypadku takiej aproksymacji?"
   ]
  },
  {
   "cell_type": "code",
   "execution_count": 33,
   "metadata": {
    "colab": {
     "base_uri": "https://localhost:8080/"
    },
    "id": "NBaqwZx16qiR",
    "outputId": "3525ce35-8811-47b1-b914-fbd1a77fca4f"
   },
   "outputs": [
    {
     "name": "stderr",
     "output_type": "stream",
     "text": [
      "/usr/local/lib/python3.11/dist-packages/sklearn/metrics/pairwise.py:2466: DataConversionWarning: Data was converted to boolean for metric jaccard\n",
      "  warnings.warn(msg, DataConversionWarning)\n",
      "/usr/local/lib/python3.11/dist-packages/sklearn/metrics/pairwise.py:2466: DataConversionWarning: Data was converted to boolean for metric jaccard\n",
      "  warnings.warn(msg, DataConversionWarning)\n"
     ]
    },
    {
     "name": "stdout",
     "output_type": "stream",
     "text": [
      "Scikit-learn training time: 0.01\n",
      "PyNNDescent training time: 18.42\n",
      "\n",
      "Scikit-learn prediction time: 978.04\n",
      "PyNNDescent prediction time: 1.13\n",
      "\n",
      "Scikit-learn accuracy: 97.01%\n",
      "PyNNDescent accuracy: 97.01%\n"
     ]
    }
   ],
   "source": [
    "sklearn_knn = KNeighborsClassifier(metric=\"jaccard\")\n",
    "\n",
    "pynndescent_ann = make_pipeline(\n",
    "    PyNNDescentTransformer(n_neighbors=10, metric=\"jaccard\", random_state=0),\n",
    "    KNeighborsClassifier(metric=\"precomputed\"),\n",
    ")\n",
    "\n",
    "benchmark_knn_and_ann(sklearn_knn, pynndescent_ann, X_train, X_test, y_train, y_test,accuracy=True)"
   ]
  },
  {
   "cell_type": "markdown",
   "metadata": {
    "id": "d9NtacjG6qiS"
   },
   "source": [
    "## Wyszukiwanie z pomocą najbliższych sąsiadów"
   ]
  },
  {
   "cell_type": "markdown",
   "metadata": {
    "id": "HmRbRi8S6qiS"
   },
   "source": [
    "Naszym ostatnim zastosowaniem metod opartych o sąsiedztwo będzie wyszukiwanie przedmiotów. Konkretnie stworzymy wyszukiwarkę obrazów na podstawie wpisanego hasła.\n",
    "\n",
    "Jest to zadanie **multimodalne (multimodal)**, bo operujemy na dwóch różnych modalnościach: obrazie i tekście. Takie wyszukiwarki działają następująco:\n",
    "1. W fazie treningu przedmioty (obrazy) są wektoryzowane siecią neuronową i przechowywane w indeksie.\n",
    "2. Użytkownik wpisuje tekst, który jest wektoryzowany za pomocą tej samej sieci neuronowej, dlatego musi być ona multimodalna.\n",
    "3. Wyszukujemy najbliższych sąsiadów (obrazy-wektory) dla tekstu-wektora.\n",
    "\n",
    "Najbardziej znanym modelem multimodalnym jest [CLIP](https://openai.com/research/clip), stworzony przez OpenAI. Jego architektura i wagi są dostępne publicznie, w przeciwieństwie do nowych rozwiązań tej firmy. Jest to model zasadniczo niewymagający fine-tuningu, działa bardzo dobrze w podstawowej formie dla wielu zadań. Został też wykorzystany jako element modelu [DALL-E 2](https://openai.com/product/dall-e-2).\n",
    "\n",
    "Nie musisz szczegółowo wiedzieć, jak działa ten model, ale pewne podstawy są bardzo ciekawe i przydatne. Wysokopoziomowo architekturę dobrze opisuje [ten artykuł](https://towardsdatascience.com/clip-the-most-influential-ai-model-from-openai-and-how-to-use-it-f8ee408958b1). Dla zainteresowanych [cały artykuł](https://cdn.openai.com/papers/Learning_Transferable_Visual_Models_From_Natural_Language.pdf), znacznie bardziej szczegółowy. CLIP składa się z dwóch enkoderów: dla tekstu i dla obrazu. Są to zwykłe pre-trenowane sieci, a konkretnie:\n",
    "1. Dla obrazu - [Visual Transformer (ViT)](https://www.v7labs.com/blog/vision-transformer-guide). Jest to architektura, która używa transformerów i atencji do przetwarzania obrazów. Ideą jest, żeby pociąć obraz na sąsiadujące kawałki (patches), i traktować je jak słowa dla atencji.\n",
    "2. Dla tekstu - [Transformer](https://machinelearningmastery.com/the-transformer-model/), z pewnymi modyfikacjami.\n",
    "\n",
    "Każda z tych sieci wektoryzuje wejście, dając embedding.\n",
    "\n",
    "![clip.png](attachment:962d0174-c3a6-4e9a-83b4-21cd16fe31e0.png)\n",
    "\n",
    "Zbiorem danych była kolekcja 400 milionów par (obraz, tekst), gdzie tekst opisywał zawartość obrazu. Następnie wykonano **constrastive pre-training** - model dostaje batch $N$ par (obraz, tekst) i ma przewidzieć, które z $N \\times N$ możliwych kombinacji (obraz, tekst) faktycznie wystąpiły. W tym celu maksymalizuje podobieństwo cosinusowe par, które wystąpiły w batchu, a minimalizuje podobieństwo dla $N^2 - N$ możliwych kombinacji, których nie było w batchu. W tym celu jest używana entropia krzyżowa z pewnymi modyfikacjami.\n",
    "\n",
    "Widać więc, że model jest nienadzorowany, a zbiór danych był ogromny, więc fine-tuning nie jest nam zasadniczo potrzebny. Można go użyć do klasyfikacji, ale tym nie będziemy się zajmować. Dodatkowo odpowiednią metryką odległości dla najbliższych sąsiadów będzie podobieństwo cosinusowe.\n",
    "\n",
    "Biblioteka [Sentence-Transformers](https://www.sbert.net/index.html) powstała dla różnych modeli transformerowych do zadań nienadzorowanych, ale dodano do niej także bardzo wygodny interfejs dla modelu CLIP - [przykład użycia](https://www.sbert.net/examples/applications/image-search/README.html).\n",
    "\n",
    "Jako zbiór wykorzystamy [Amazon Berkeley Objects (ABO) Dataset](https://amazon-berkeley-objects.s3.amazonaws.com/index.html) - zbiór obrazów produktów Amazona, stworzony we współpracy z University of California, Berkeley. Wykorzystamy [zminiaturyzowany zbiór](https://amazon-berkeley-objects.s3.amazonaws.com/archives/abo-images-small.tar), w którym obrazy mają rozmiar 256x256 pikseli, bo na nasze potrzeby jest zupełnie wystarczający."
   ]
  },
  {
   "cell_type": "markdown",
   "metadata": {
    "id": "PneLG9XD6qiS"
   },
   "source": [
    "**Zadanie 6 (3 punkty)**\n",
    "\n",
    "*Wyszukiwarka z ANN*\n",
    "\n",
    "1. Ściągnij [zbiór danych](https://amazon-berkeley-objects.s3.amazonaws.com/archives/abo-images-small.tar). Rozpakuj go obok tego notebooka. W katalogu `images/metadata` znajdziesz plik `images.csv.gz` - zawiera on ścieżki do obrazów.\n",
    "2. Uzupełnij kod funkcji `vectorize_images`, która oblicza embeddingi obrazów za pomocą modelu CLIP. Przyda ci się [ten tutorial](https://www.sbert.net/examples/applications/image-search/README.html). Ustaw wartość MAX_IMAGES tak, żeby wystarczyło ci RAMu i żeby proces trwał rozsądną ilość czasu (ale co najmniej kilka-kilkanaście minut). `start_idx` oraz `end_idx` to indeksy wierszy, na których w danej chwili operujemy - po prostu przesuwamy się o `BATCH_SIZE` w pętli for.\n",
    "3. Uzupełnij kod klasy `ImageSearch`:\n",
    "  - w konstruktorze stwórz indeks za pomocą klasy [NNDescent](https://pynndescent.readthedocs.io/en/latest/api.html#pynndescent.pynndescent_.NNDescent), korzystając z metryki cosinusowej i `random_state=0`, może się też przydać `n_jobs=-1`\n",
    "  - w metodzie `query` zwektoryzuj zapytanie tekstowe, a następ wyszukaj indeksy najbliższych sąsiadów-obrazów w indeksie (zwróć uwagę na to, co zwraca metoda `.query()` dla `NNDescent`), a następnie zwróć ścieżki do ich obrazów; zwróć uwagę na to, że `.query()` wymaga 2-wymiarowego wejścia, więc w naszym wypadku `(1, 512)`\n",
    "  - w metodzie `show_images` załaduj i wyświetl obrazy; może się przydać [ten przykład](https://matplotlib.org/stable/gallery/axes_grid1/simple_axesgrid.html)\n",
    "4. Przetestuj wyszukiwarkę kilkoma hasłami (metoda `.search()`). Prawdopodobnie najlepiej zadziałają hasła odpowiadające typowym produktom sprzedawanym w Amazonie.\n",
    "5. Jakie widzisz zalety i wady takiego podejścia do wyszukiwania?\n",
    "\n",
    "**Uwaga:** jeżeli masz mało RAMu lub pracujesz na Google Colab, to warto zrestartować Jupyter Notebooka, zamykając kernel. Zwolni ci to pamięć. Możesz też usunąć macierz z embeddingami (`del embeddings`) kiedy stworzysz indeks w konstruktorze `ImageSearch`."
   ]
  },
  {
   "cell_type": "code",
   "execution_count": 34,
   "metadata": {
    "colab": {
     "base_uri": "https://localhost:8080/"
    },
    "id": "R8mvWo6s6qiS",
    "outputId": "ad18d945-1f29-45c7-9f84-85565bf85b53"
   },
   "outputs": [
    {
     "name": "stdout",
     "output_type": "stream",
     "text": [
      "--2025-04-03 16:10:35--  https://amazon-berkeley-objects.s3.amazonaws.com/archives/abo-images-small.tar\n",
      "Resolving amazon-berkeley-objects.s3.amazonaws.com (amazon-berkeley-objects.s3.amazonaws.com)... 52.217.71.76, 3.5.17.123, 16.182.40.185, ...\n",
      "Connecting to amazon-berkeley-objects.s3.amazonaws.com (amazon-berkeley-objects.s3.amazonaws.com)|52.217.71.76|:443... connected.\n",
      "HTTP request sent, awaiting response... 200 OK\n",
      "Length: 3253381120 (3.0G) [application/x-tar]\n",
      "Saving to: ‘abo-images-small.tar’\n",
      "\n",
      "abo-images-small.ta  20%[===>                ] 647.91M  23.3MB/s    eta 1m 46s ^C\n"
     ]
    }
   ],
   "source": [
    "!wget https://amazon-berkeley-objects.s3.amazonaws.com/archives/abo-images-small.tar"
   ]
  },
  {
   "cell_type": "code",
   "execution_count": 9,
   "metadata": {
    "colab": {
     "base_uri": "https://localhost:8080/"
    },
    "id": "nWHfIygj6qiS",
    "outputId": "75397d51-1a7e-45d2-91f5-c99edc8e13c0"
   },
   "outputs": [
    {
     "name": "stdout",
     "output_type": "stream",
     "text": [
      "^C\n"
     ]
    }
   ],
   "source": [
    "!tar -xf abo-images-small.tar"
   ]
  },
  {
   "cell_type": "code",
   "execution_count": 10,
   "metadata": {
    "colab": {
     "base_uri": "https://localhost:8080/",
     "height": 370
    },
    "id": "rhoyfGpW6qiS",
    "outputId": "944e69e4-a423-4c08-ea16-a44206c1bb08"
   },
   "outputs": [
    {
     "data": {
      "text/plain": [
       "554       images/small/46/4689906d.png\n",
       "6614      images/small/0c/0cd7596c.jpg\n",
       "6617      images/small/e6/e602a9af.jpg\n",
       "6621      images/small/e7/e7cfeb02.jpg\n",
       "6627      images/small/68/6839db4e.jpg\n",
       "                      ...             \n",
       "398207    images/small/6d/6d49d130.jpg\n",
       "398208    images/small/b1/b163e0ea.jpg\n",
       "398209    images/small/a1/a116d9d1.jpg\n",
       "398210    images/small/9c/9c3e1158.jpg\n",
       "398211    images/small/cf/cf112e38.jpg\n",
       "Name: path, Length: 342878, dtype: object"
      ]
     },
     "execution_count": 10,
     "metadata": {},
     "output_type": "execute_result"
    }
   ],
   "source": [
    "# prepare pd.Series with paths to images\n",
    "image_paths = pd.read_csv(\"images/metadata/images.csv.gz\")\n",
    "\n",
    "# \"height\" and \"width\" are original image size, let's select\n",
    "# only large ones - they are probably more interesting\n",
    "mask = (image_paths[\"height\"] >= 1000) & (image_paths[\"width\"] >= 1000)\n",
    "image_paths = image_paths.loc[mask, :]\n",
    "\n",
    "# remove columns, leaving only pd.Series with paths\n",
    "image_paths = image_paths[\"path\"]\n",
    "image_paths = \"images/small/\" + image_paths.astype(str)\n",
    "\n",
    "image_paths"
   ]
  },
  {
   "cell_type": "code",
   "execution_count": 11,
   "metadata": {
    "id": "8cane-rO6qiS"
   },
   "outputs": [],
   "source": [
    "from itertools import islice\n",
    "\n",
    "import joblib\n",
    "import torch\n",
    "from sentence_transformers import SentenceTransformer\n",
    "from tqdm.notebook import tqdm\n",
    "from PIL import Image\n",
    "\n",
    "\n",
    "MAX_IMAGES = 5000\n",
    "BATCH_SIZE = joblib.cpu_count(only_physical_cores=True)\n",
    "\n",
    "\n",
    "def vectorize_images(image_paths: pd.Series) -> np.ndarray:\n",
    "    device = \"cuda\" if torch.cuda.is_available() else \"cpu\"\n",
    "    model = SentenceTransformer(\"clip-ViT-B-32\", device=device)\n",
    "\n",
    "    # batch iterator, based on Python itertools example\n",
    "    def batched(iterable, n: int):\n",
    "        it = iter(iterable)\n",
    "        while batch := tuple(islice(it, n)):\n",
    "            yield batch\n",
    "\n",
    "    # CLIP embeddings have 512 dimensions\n",
    "    embeddings = np.empty((MAX_IMAGES, 512))\n",
    "\n",
    "    # iterate with tqdm, it will give us a nice progress bar\n",
    "    with tqdm(total=MAX_IMAGES) as pbar:\n",
    "        start_idx = 0\n",
    "        for batch in batched(image_paths.iloc[:MAX_IMAGES], BATCH_SIZE):\n",
    "            # update end_idx; remember to stop at MAX_IMAGES!\n",
    "            end_idx = min(start_idx + len(batch), MAX_IMAGES)\n",
    "\n",
    "            # load images with Image.open()\n",
    "            loaded = [Image.open(path) for path in batch]\n",
    "\n",
    "            # calculate embeddings\n",
    "            image_embeddings = model.encode(loaded)\n",
    "\n",
    "            # save embeddings in the embeddings array\n",
    "            embeddings[start_idx:end_idx] = image_embeddings\n",
    "\n",
    "            # update start_idx\n",
    "            start_idx = end_idx\n",
    "\n",
    "            pbar.update(BATCH_SIZE)\n",
    "\n",
    "    return embeddings"
   ]
  },
  {
   "cell_type": "code",
   "execution_count": 12,
   "metadata": {
    "id": "Z8Kucgky6qiT"
   },
   "outputs": [
    {
     "data": {
      "application/vnd.jupyter.widget-view+json": {
       "model_id": "3b8a9a2b37404da8990a56e72e3a8866",
       "version_major": 2,
       "version_minor": 0
      },
      "text/plain": [
       "  0%|          | 0/5000 [00:00<?, ?it/s]"
      ]
     },
     "metadata": {},
     "output_type": "display_data"
    }
   ],
   "source": [
    "embeddings = vectorize_images(image_paths)"
   ]
  },
  {
   "cell_type": "code",
   "execution_count": 13,
   "metadata": {
    "id": "wxg2kRT96qiT"
   },
   "outputs": [],
   "source": [
    "from pynndescent import NNDescent\n",
    "from mpl_toolkits.axes_grid1 import ImageGrid\n",
    "\n",
    "class ImageSearch:\n",
    "    def __init__(self, image_paths: pd.Series, embeddings: np.ndarray):\n",
    "        # change to Numpy array to avoid .iloc[] and just index with []\n",
    "        self.image_paths = image_paths.values\n",
    "\n",
    "        device = \"cuda\" if torch.cuda.is_available() else \"cpu\"\n",
    "        self.model = SentenceTransformer(\"clip-ViT-B-32\", device=device)\n",
    "\n",
    "        # create PyNNDescent index\n",
    "        self.index = NNDescent(embeddings, n_jobs = -1, metric = 'cosine', random_state = 0)\n",
    "\n",
    "    def search(self, text: str, n_neighbors: int = 9) -> None:\n",
    "        image_paths = self.query(text, n_neighbors)\n",
    "        self.show(image_paths)\n",
    "\n",
    "    def query(self, text: str, n_neighbors: int = 9) -> list[str]:\n",
    "        text_embedding = self.model.encode([text], convert_to_tensor=True)\n",
    "        nn_query_indices, _ = self.index.query(text_embedding, k=n_neighbors)\n",
    "        return self.image_paths[nn_query_indices[0]]\n",
    "\n",
    "    def show(self, image_paths: list[str]) -> None:\n",
    "        fig = plt.figure(figsize=(4., 4.))\n",
    "        grid = ImageGrid(fig, 111,  # similar to subplot(111)\n",
    "                         nrows_ncols=(2, 2),  # creates 2x2 grid of Axes\n",
    "                         axes_pad=0.1,  # pad between Axes in inch.\n",
    "                         )\n",
    "\n",
    "        for ax, im_path in zip(grid, image_paths):\n",
    "            im = Image.open(im_path)\n",
    "            ax.imshow(im)\n",
    "\n",
    "        plt.show()"
   ]
  },
  {
   "cell_type": "code",
   "execution_count": 14,
   "metadata": {
    "id": "98NZnKgi6qiT"
   },
   "outputs": [],
   "source": [
    "image_search = ImageSearch(image_paths, embeddings)"
   ]
  },
  {
   "cell_type": "code",
   "execution_count": 15,
   "metadata": {
    "id": "LiZZbY416qiT"
   },
   "outputs": [
    {
     "data": {
      "image/png": "[encoded data removed]",
      "text/plain": [
       "<Figure size 400x400 with 8 Axes>"
      ]
     },
     "metadata": {},
     "output_type": "display_data"
    }
   ],
   "source": [
    "image_search.search(\"blue pillow\")"
   ]
  },
  {
   "cell_type": "code",
   "execution_count": 16,
   "metadata": {
    "id": "HaOkyfIogmTe"
   },
   "outputs": [
    {
     "data": {
      "image/png": "[encoded data removed]",
      "text/plain": [
       "<Figure size 400x400 with 8 Axes>"
      ]
     },
     "metadata": {},
     "output_type": "display_data"
    }
   ],
   "source": [
    "image_search.search(\"yellow rhino\")"
   ]
  },
  {
   "cell_type": "markdown",
   "metadata": {
    "id": "4tJbjyCj6qiT"
   },
   "source": [
    "// skomentuj tutaj"
   ]
  },
  {
   "cell_type": "markdown",
   "metadata": {
    "id": "OD1vGRm96qiT"
   },
   "source": [
    "## Zadanie dodatkowe (3 punkty)\n",
    "\n",
    "Screening wirtualny (virtual screening, VS) to proces filtrowania ogromnych baz molekuł w celu znalezienia cząsteczek aktywnych wobec docelowego białka i receptora. Molekuły te nazywami ligandami, realizującymi wiązanie białko-ligand. [Polska wikipedia](https://pl.wikipedia.org/wiki/Screening_wirtualny) oraz [angielska](https://en.wikipedia.org/wiki/Virtual_screening) dobrze to opisują. Zgodnie z zasadą podobieństwa molekularnego (molecular similarity principle), cząsteczki podobne strukturalnie do aktywnych, już znanych ligandów także mają duże prawdopodobieństwo pożądanej aktywności biologicznej. Co ważne, musimy w takim procesie wybrać tylko niewielką liczbę molekuł wynikowych. Trafią one do laboratorium do testów, żeby zweryfikować ich faktyczną aktywność, a że takie testy są drogie, to musimy się mocno ograniczyć.\n",
    "\n",
    "Realizacja wyszukiwania podobnych molekuł odbywa się często z użyciem algorytmów najbliższych sąsiadów. Jest to część podejścia ligand-based virtual screening (LBVS). W podejściu opartym wprost o podobieństwo molekuł (ang. similarity searching) kroki są następujące:\n",
    "1. Podział zbioru na treningowy i testowy.\n",
    "2. Ze zbioru treningowego zostawiamy tylko klasę pozytywną, czyli molekuły aktywne.\n",
    "3. Wektoryzujemy wszystkie molekuły, np. fingerprintami molekularnymi.\n",
    "4. Dla każdej cząsteczki ze zbioru testowego liczymy podobieństwo do aktywnych ze zbioru treningowego. Agregujemy\n",
    "   te wartości np. funkcją maximum (MAX fusion) czy średnią (MEAN fusion).\n",
    "5. Sortujemy molekułu testowe malejąco, czyli na początku listy będą te, które z najwyższym prawdopodobieństwem są aktywne.\n",
    "6. Ewaluujemy je według zadanej metryki.\n",
    "\n",
    "Metryki jakości w tym problemie uwzględniają fakt, że kluczowe jest, żeby na samym początku listy było jak najwiękcej naprawdę aktywnych molekuł. Chcemy zmaksymalizować zysk z wyboru tej niewielkiej liczby cząsteczek, które trafią do testów laboratoryjnych. W związku z tym są dość podobne do metryk z zystemów rekomendacyjnych. Są to np. [enrichment factor](https://scikit-fingerprints.github.io/scikit-fingerprints/modules/generated/skfp.metrics.enrichment_factor.html) czy [BEDROC](https://scikit-fingerprints.github.io/scikit-fingerprints/modules/generated/skfp.metrics.bedroc_score.html).\n",
    "\n",
    "W ramach tego zadania:\n",
    "1. Załaduj [zbiór danych MUV](https://scikit-fingerprints.github.io/scikit-fingerprints/modules/datasets/generated/skfp.datasets.moleculenet.load_muv.html). Składa się on z ~93 tysięcy molekuł i zmierzonych 17 rodzajów aktywności biologicznej.\n",
    "2. Mamy tu macierz klas `y`, mającą 17 kolumn. Podziel ją na 17 osobnych wektorów według kolumn. Będziemy tu mieli 17 zbiorów danych, każdy mający te same molekuły, ale inne klasy.\n",
    "3. Oblicz fingerprinty molekularne [ECFP](https://scikit-fingerprints.github.io/scikit-fingerprints/modules/generated/skfp.fingerprints.ECFPFingerprint.html) w wersjach binarnej i count, zliczającej podstruktury molekuł.\n",
    "4. Załaduj [indeksy treningowe, walidacyjne i testowe](https://scikit-fingerprints.github.io/scikit-fingerprints/modules/datasets/generated/skfp.datasets.moleculenet.load_ogb_splits.html) z benchmarku OGB. Połącz zbiór treningowy i walidacyjny w jeden treningowy.\n",
    "5. Zaimplementuj similarity searching ligand-based virtual screening, zgodnie z opisem powyżej. Użyj [podobieństwa Tanimoto](https://scikit-fingerprints.github.io/scikit-fingerprints/modules/distances.html) w odpowiedniej wersji, binarnej lub count.\n",
    "6. Wykorzystaj enrichment factor (dla 5% molekuł) oraz BEDROC do ewaluacji.\n",
    "\n",
    "Porównaj średnią wartość obu metryk dla 17 targetów, dla obu wariantów fingerprintu.\n",
    "\n",
    "Dla zainteresowanych polecam artykuł naukowy:\n",
    "\n",
    "S. Riniker, G. Landrum *\"Open-source platform to benchmark fingerprints for ligand-based virtual screening\"* J Cheminform 5, 26 (2013). [link](https://jcheminf.biomedcentral.com/articles/10.1186/1758-2946-5-26)"
   ]
  },
  {
   "cell_type": "code",
   "execution_count": null,
   "metadata": {
    "id": "8q0rmbA76qiT"
   },
   "outputs": [],
   "source": []
  }
 ],
 "metadata": {
  "colab": {
   "provenance": []
  },
  "kernelspec": {
   "display_name": "Python 3 (ipykernel)",
   "language": "python",
   "name": "python3"
  },
  "language_info": {
   "codemirror_mode": {
    "name": "ipython",
    "version": 3
   },
   "file_extension": ".py",
   "mimetype": "text/x-python",
   "name": "python",
   "nbconvert_exporter": "python",
   "pygments_lexer": "ipython3",
   "version": "3.11.9"
  }
 },
 "nbformat": 4,
 "nbformat_minor": 4
}
